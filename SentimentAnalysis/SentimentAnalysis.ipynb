{
 "cells": [
  {
   "cell_type": "markdown",
   "id": "a78d7a99",
   "metadata": {},
   "source": [
    "<h1><center>Sentiment Analysis</center></h1>\n",
    "\n",
    "[Test Sentiment Analysis here](https://monkeylearn.com/sentiment-analysis-online/)<br><br>\n",
    "Sentiment analysis identifies emotions <b>in text</b> and classifies opinions as <b>positive/negative/neutral</b>"
   ]
  },
  {
   "cell_type": "markdown",
   "id": "ff528192",
   "metadata": {},
   "source": [
    "---\n",
    "<h1><center>Tokenization</center></h1>\n",
    "\n",
    "Breaking raw text into small chunks. Raw texts that are converted into words/sentences are known as <b>tokens</b><br><br>\n",
    "\n",
    "<h3>Why is tokenization important?</h3><br>\n",
    "Tokenization helps in <b>intepreting the meaning</b> of the text by <b>analyzing the sequence of words</b><br>\n",
    "\n",
    "E.g : <code>\"It is raining\"</code> can be converted into <code>'It'</code> <code>'is</code> <code>'raining'</code><br><br>\n",
    "\n",
    "<h3>Why is Tokenization required in NLP?</h3>\n",
    "\n",
    "Because <b>meaning of the text</b> could be interpreted easily by <b>analyzing the words present in the text</b><br>\n",
    "\n",
    "Also, we are going to extract meaningful/important information only from the words\n",
    "\n",
    "In social media, hashtags are used to say about something. So from counting the hastags, It's easy to determine how many times has X hashtags have been mentioned/said.\n",
    "\n",
    "<b>For example,</b><br>\n",
    "Before tokenization : <code>\"This is a cat\"</code><br>\n",
    "After tokenization : <code>['This','is','a','cat']</code><br><br>\n",
    "\n",
    "Before tokenization : <code>\"Smith is a good politician\"</code><br>\n",
    "After tokenization : <code>['Smith','is','a','good','politician']</code><br>\n",
    "So when sentiment analysis is applied: <code>['Smith','good','politician']</code><br><br>\n",
    "\n",
    "Before tokenization : <code>\"Alex is an average politician\"</code><br>\n",
    "After tokenization : <code>['Alex','is','an','average','politician']</code><br>\n",
    "So when sentiment analysis is applied: <code>['Alex','average','politician']</code><br><br>\n",
    "\n",
    "From the <b>tokenized text</b>, we can:\n",
    "<ul>\n",
    "    <li>Count number of words in the text</li>\n",
    "    <li>Count frequency of the word (how many times the word is repeated/present in a paragraph)</li>\n",
    "</ul>\n"
   ]
  },
  {
   "cell_type": "code",
   "execution_count": 2,
   "id": "36a68cb4",
   "metadata": {},
   "outputs": [],
   "source": [
    "import nltk"
   ]
  },
  {
   "cell_type": "markdown",
   "id": "05f920c8",
   "metadata": {},
   "source": [
    "<code>'punkt'</code> is a tokenizer that divides a text into a list of sentences\n",
    "\n",
    "[Read more about 'punkt'](https://www.kite.com/python/docs/nltk.punkt)"
   ]
  },
  {
   "cell_type": "code",
   "execution_count": 4,
   "id": "6006efbe",
   "metadata": {},
   "outputs": [
    {
     "name": "stderr",
     "output_type": "stream",
     "text": [
      "[nltk_data] Downloading package punkt to\n",
      "[nltk_data]     C:\\Users\\user\\AppData\\Roaming\\nltk_data...\n",
      "[nltk_data]   Package punkt is already up-to-date!\n"
     ]
    }
   ],
   "source": [
    "nltk.download('punkt') \n",
    "from nltk import word_tokenize"
   ]
  },
  {
   "cell_type": "markdown",
   "id": "8709fc8a",
   "metadata": {},
   "source": [
    "<h3>Tokenization in action</h3>\n",
    "\n",
    "<b>Fun fact:</b> All 26 alphabets are in <code>test_sentence</code>!"
   ]
  },
  {
   "cell_type": "code",
   "execution_count": 5,
   "id": "93b713a0",
   "metadata": {},
   "outputs": [
    {
     "name": "stdout",
     "output_type": "stream",
     "text": [
      "['The', 'quick', 'brown', 'fox', 'jumps', 'over', 'the', 'little', 'lazy', 'dog']\n"
     ]
    }
   ],
   "source": [
    "test_sentence = \"The quick brown fox jumps over the little lazy dog\"\n",
    "print(word_tokenize(test_sentence))"
   ]
  },
  {
   "cell_type": "markdown",
   "id": "77a8627c",
   "metadata": {},
   "source": [
    "---\n",
    "<h2>Some important interview questions</h2>\n",
    "\n",
    "<h3>What is the difference between <code>.split()</code> and <code>word_tokenize</code>?</h3>\n",
    "\n",
    "In <code>.split()</code> the word <code>python,</code> and <code>nltk,</code> with commas are <b> not separated</b>\n",
    "\n",
    "However, <code>word_tokenize</code> returns us with <code>python</code>\n",
    "<code>,</code> and <code>nltk</code> <code>,</code>"
   ]
  },
  {
   "cell_type": "code",
   "execution_count": 10,
   "id": "db600404",
   "metadata": {},
   "outputs": [
    {
     "name": "stdout",
     "output_type": "stream",
     "text": [
      "['This', 'is', 'the', 'tutorial', 'of', 'python,', 'nltk,', 'textProcessing']\n"
     ]
    }
   ],
   "source": [
    "data = \"This is the tutorial of python, nltk, textProcessing\"\n",
    "\n",
    "# Using .split()\n",
    "split_data = data.split()\n",
    "print(split_data)"
   ]
  },
  {
   "cell_type": "code",
   "execution_count": 11,
   "id": "bcc7aec7",
   "metadata": {},
   "outputs": [
    {
     "name": "stdout",
     "output_type": "stream",
     "text": [
      "['This', 'is', 'the', 'tutorial', 'of', 'python', ',', 'nltk', ',', 'textProcessing']\n"
     ]
    }
   ],
   "source": [
    "#Using word_tokenize\n",
    "\n",
    "tokenized_data = word_tokenize(data)\n",
    "print(tokenized_data)"
   ]
  },
  {
   "cell_type": "markdown",
   "id": "a05d8ae2",
   "metadata": {},
   "source": [
    "<h3>What is the difference between <code>word_tokenize</code> and <code>sent_tokenize</code>?</h3>\n",
    "\n",
    "<code>sent_tokenize</code> is used when you want to <b>separate the sentences</b>"
   ]
  },
  {
   "cell_type": "code",
   "execution_count": 21,
   "id": "570ee70e",
   "metadata": {},
   "outputs": [
    {
     "name": "stdout",
     "output_type": "stream",
     "text": [
      "['We', 'have', 'a', 'little', 'voice', 'in', 'our', 'heads', '.', 'Like', 'the', 'one', 'you', 'used', 'to', 'read', 'this', '.']\n",
      "['My', 'name', 'is', 'Fikri', '.', 'I', 'live', 'in', 'Malaysia', '.', 'I', 'am', 'unemployed', '.', 'Send', 'help']\n"
     ]
    }
   ],
   "source": [
    "from nltk import sent_tokenize\n",
    "\n",
    "data = \"We have a little voice in our heads. Like the one you used to read this.\"\n",
    "data2 = \"My name is Fikri. I live in Malaysia. I am unemployed. Send help\"\n",
    "\n",
    "# Using word_tokenize\n",
    "print(word_tokenize(data))\n",
    "print(word_tokenize(data2))"
   ]
  },
  {
   "cell_type": "markdown",
   "id": "ab73767f",
   "metadata": {},
   "source": [
    "<h4>Using <code>sent_tokenize</code></h4>\n",
    "\n",
    "When to use <code>word_tokenize</code> or <code>sent_tokenize</code>?\n",
    "\n",
    "It is very <b>situational</b>, depends on your <b>programming needs</b>\n",
    "\n",
    "General rule of thumb is, \n",
    "<ul>\n",
    "    <li><b><code>word_tokenize</code></b> separate words\n",
    "    <li><b><code>sent_tokenize</code></b> separate sentences\n",
    "</ul>"
   ]
  },
  {
   "cell_type": "code",
   "execution_count": 22,
   "id": "12bfcd78",
   "metadata": {},
   "outputs": [
    {
     "name": "stdout",
     "output_type": "stream",
     "text": [
      "['We have a little voice in our heads.', 'Like the one you used to read this.']\n",
      "['My name is Fikri.', 'I live in Malaysia.', 'I am unemployed.', 'Send help']\n"
     ]
    }
   ],
   "source": [
    "print(sent_tokenize(data))\n",
    "print(sent_tokenize(data2))"
   ]
  },
  {
   "cell_type": "markdown",
   "id": "8c2d1b55",
   "metadata": {},
   "source": [
    "<h3>Performing tokenization on Twitter Dataset</h3>\n",
    "\n",
    "Remember, <b>hashtags</b> and <b>names</b> plays important role in social media? \n",
    "\n",
    "Yup, we're using them here."
   ]
  },
  {
   "cell_type": "code",
   "execution_count": 24,
   "id": "4a917f35",
   "metadata": {},
   "outputs": [
    {
     "data": {
      "text/plain": [
       "['#', 'Nexperts', 'is', 'the', 'best', 'institute']"
      ]
     },
     "execution_count": 24,
     "metadata": {},
     "output_type": "execute_result"
    }
   ],
   "source": [
    "data = \"#Nexperts is the best institute\"\n",
    "data1 = \"#GFRIEND is underrated\"\n",
    "word_tokenize(data)"
   ]
  },
  {
   "cell_type": "code",
   "execution_count": 25,
   "id": "9530528d",
   "metadata": {},
   "outputs": [
    {
     "data": {
      "text/plain": [
       "['#', 'GFRIEND', 'is', 'underrated']"
      ]
     },
     "execution_count": 25,
     "metadata": {},
     "output_type": "execute_result"
    }
   ],
   "source": [
    "word_tokenize(data1)"
   ]
  },
  {
   "cell_type": "markdown",
   "id": "51696e17",
   "metadata": {},
   "source": [
    "Why is <code>word_tokenize</code> separating the <code>#</code>?\n",
    "\n",
    "We need to consider the <b>'#'</b> and the text with it are the same.\n",
    "\n",
    "To deal with it, we need to use <b><code>TweetTokenizer</code> package</b>"
   ]
  },
  {
   "cell_type": "code",
   "execution_count": 27,
   "id": "ea2a0286",
   "metadata": {},
   "outputs": [],
   "source": [
    "from nltk.tokenize import TweetTokenizer\n",
    "tk = TweetTokenizer() #Creating an object from our class"
   ]
  },
  {
   "cell_type": "code",
   "execution_count": 28,
   "id": "e2426955",
   "metadata": {},
   "outputs": [
    {
     "data": {
      "text/plain": [
       "['#Nexperts', 'is', 'the', 'best', 'institute']"
      ]
     },
     "execution_count": 28,
     "metadata": {},
     "output_type": "execute_result"
    }
   ],
   "source": [
    "tk.tokenize(data)"
   ]
  },
  {
   "cell_type": "code",
   "execution_count": 29,
   "id": "e3e71d80",
   "metadata": {},
   "outputs": [
    {
     "data": {
      "text/plain": [
       "['#GFRIEND', 'is', 'underrated']"
      ]
     },
     "execution_count": 29,
     "metadata": {},
     "output_type": "execute_result"
    }
   ],
   "source": [
    "tk.tokenize(data1)"
   ]
  },
  {
   "cell_type": "markdown",
   "id": "fd2aff0c",
   "metadata": {},
   "source": [
    "---\n",
    "\n",
    "<h1><center>Stopwords</center></h1>\n",
    "\n",
    "Stopwords are most common words in any natural language. \n",
    "\n",
    "Since we are analyzing text data and building NLP models, <b>stopwords</b> might not add much value to the meaning \n",
    "\n",
    "<b><i><center>basically useless</center></i></b>\n",
    "    \n",
    "Words such as : \n",
    "    <ul>\n",
    "        <li>the</li>\n",
    "        <li>is</li>\n",
    "        <li>in</li>\n",
    "        <li>for</li>\n",
    "        <li>where</li>\n",
    "        <li>when</li>\n",
    "        <li>to</li>\n",
    "        <li>at</li>\n",
    "        <li>and many more..</li>\n",
    "    </ul>\n",
    "    \n",
    "Why is it useless?<br><br>\n",
    "Consider a text string <code>\"There is a pen on the table\"</code>\n",
    "\n",
    "<code>['is','a','on','the']</code> add no meaning while parsing it.\n",
    "\n",
    "However, <code>['there','book','table]</code> tells us what statement is all about\n",
    "\n",
    "<h3>Why we need to remove stopwords?</h3>\n",
    "\n",
    "Depends <b>on the task you're working on</b>. You want to remove/keep them, it's up to you.\n",
    "\n",
    "Tasks like <b>text classification</b>, where text is classified into <b>different categories</b>, <b>stopwords</b> are <b>removed/excluded</b> from the text so more focus can be given to those words which <b>define the meaning of the text</b>\n",
    "\n",
    "Remove stopwords so your analysis becomes more efficient\n"
   ]
  },
  {
   "cell_type": "code",
   "execution_count": 32,
   "id": "93a8f08f",
   "metadata": {},
   "outputs": [
    {
     "name": "stderr",
     "output_type": "stream",
     "text": [
      "[nltk_data] Downloading package stopwords to\n",
      "[nltk_data]     C:\\Users\\user\\AppData\\Roaming\\nltk_data...\n",
      "[nltk_data]   Unzipping corpora\\stopwords.zip.\n"
     ]
    }
   ],
   "source": [
    "# Stopwords\n",
    "nltk.download('stopwords')\n",
    "from nltk.corpus import stopwords"
   ]
  },
  {
   "cell_type": "markdown",
   "id": "3fac6724",
   "metadata": {},
   "source": [
    "<h4>How many stopwords are there in the package?</h4>"
   ]
  },
  {
   "cell_type": "code",
   "execution_count": 33,
   "id": "e9572da3",
   "metadata": {},
   "outputs": [
    {
     "name": "stdout",
     "output_type": "stream",
     "text": [
      "['i', 'me', 'my', 'myself', 'we', 'our', 'ours', 'ourselves', 'you', \"you're\", \"you've\", \"you'll\", \"you'd\", 'your', 'yours', 'yourself', 'yourselves', 'he', 'him', 'his', 'himself', 'she', \"she's\", 'her', 'hers', 'herself', 'it', \"it's\", 'its', 'itself', 'they', 'them', 'their', 'theirs', 'themselves', 'what', 'which', 'who', 'whom', 'this', 'that', \"that'll\", 'these', 'those', 'am', 'is', 'are', 'was', 'were', 'be', 'been', 'being', 'have', 'has', 'had', 'having', 'do', 'does', 'did', 'doing', 'a', 'an', 'the', 'and', 'but', 'if', 'or', 'because', 'as', 'until', 'while', 'of', 'at', 'by', 'for', 'with', 'about', 'against', 'between', 'into', 'through', 'during', 'before', 'after', 'above', 'below', 'to', 'from', 'up', 'down', 'in', 'out', 'on', 'off', 'over', 'under', 'again', 'further', 'then', 'once', 'here', 'there', 'when', 'where', 'why', 'how', 'all', 'any', 'both', 'each', 'few', 'more', 'most', 'other', 'some', 'such', 'no', 'nor', 'not', 'only', 'own', 'same', 'so', 'than', 'too', 'very', 's', 't', 'can', 'will', 'just', 'don', \"don't\", 'should', \"should've\", 'now', 'd', 'll', 'm', 'o', 're', 've', 'y', 'ain', 'aren', \"aren't\", 'couldn', \"couldn't\", 'didn', \"didn't\", 'doesn', \"doesn't\", 'hadn', \"hadn't\", 'hasn', \"hasn't\", 'haven', \"haven't\", 'isn', \"isn't\", 'ma', 'mightn', \"mightn't\", 'mustn', \"mustn't\", 'needn', \"needn't\", 'shan', \"shan't\", 'shouldn', \"shouldn't\", 'wasn', \"wasn't\", 'weren', \"weren't\", 'won', \"won't\", 'wouldn', \"wouldn't\"]\n"
     ]
    }
   ],
   "source": [
    "print(stopwords.words('english'))\n",
    "\n",
    "# if text in stopwords.words == it will be deleted"
   ]
  },
  {
   "cell_type": "code",
   "execution_count": 36,
   "id": "b5606f87",
   "metadata": {},
   "outputs": [
    {
     "name": "stdout",
     "output_type": "stream",
     "text": [
      "['laptop', 'overheating']\n"
     ]
    }
   ],
   "source": [
    "test = \"my laptop is overheating\"\n",
    "test1 = \"my overheating is laptop\"\n",
    "stop_words = stopwords.words('english')\n",
    "\n",
    "'''\n",
    "First, we need to separate(tokenize) our text data first\n",
    "'''\n",
    "token = word_tokenize(test)\n",
    "\n",
    "'''\n",
    "Using for loop to remove stopwords in our token. \n",
    "Create an empty list(cleaned_token) to append new filtered text\n",
    "'''\n",
    "cleaned_token = []\n",
    "\n",
    "for word in token:\n",
    "    if word not in stop_words:\n",
    "        cleaned_token.append(word)\n",
    "\n",
    "print(cleaned_token)"
   ]
  },
  {
   "cell_type": "markdown",
   "id": "dec5cdff",
   "metadata": {},
   "source": [
    "<h4>But what if the stopwords that we want is not in the list?</h4>\n",
    "\n",
    "Simple, you can create your own. Only do this when your stopword <b>IS NOT IN THE LIST</b>\n",
    "\n",
    "---\n",
    "\n",
    "Note : In handling text data/reviews, convert them into lower case first. The code won't work since it is case sensitive\n",
    "\n",
    "<code>test = \"My laptop is overheating\"</code> will output <code>['My','laptop','overheating']</code> because <b><code>['My']</code></b> is not in <code>stopwords.words('english')</code>\n",
    "\n",
    "Use the string method <code>.lower()</code>\n",
    "\n",
    "So the strategy when the dataset has case-sensitive,\n",
    "<ol>\n",
    "    <li>Use .lower() to convert to lowercase</li>\n",
    "    <li>Tokenize the text</li>\n",
    "    <li>For loop to filter</li>\n",
    "</ol>\n",
    "\n",
    "---"
   ]
  },
  {
   "cell_type": "markdown",
   "id": "0b5e6d1c",
   "metadata": {},
   "source": [
    "<h1><center>Stemming</center></h1>\n",
    "\n",
    "Is a process of <b>producing morphological variants of a root/base word</b>\n",
    "\n",
    "Also known as <b>stemming algorithms</b> or <b>stemmers</b>\n",
    "\n",
    "<code>['chocolates','chocolatey','choco']</code> will be reduced to <code>['chocolate']</code>\n",
    "\n",
    "<code>['retrieval','retrieved','retrieves']</code> reduced to <code>['retrieve']</code>"
   ]
  },
  {
   "cell_type": "code",
   "execution_count": 38,
   "id": "cfccb8cf",
   "metadata": {},
   "outputs": [
    {
     "name": "stdout",
     "output_type": "stream",
     "text": [
      "program  :  program\n",
      "programs  :  program\n",
      "programmer  :  programm\n",
      "programming  :  program\n",
      "programmers  :  programm\n"
     ]
    }
   ],
   "source": [
    "from nltk.stem import PorterStemmer\n",
    "ps = PorterStemmer()\n",
    "\n",
    "words = ['program','programs','programmer','programming','programmers']\n",
    "\n",
    "#Applying stemming\n",
    "\n",
    "for w in words:\n",
    "    print(w,\" : \",ps.stem(w))"
   ]
  },
  {
   "cell_type": "markdown",
   "id": "fbd41777",
   "metadata": {},
   "source": [
    "---\n",
    "<h1><center>Lemmatization</center></h1>\n",
    "\n",
    "Switches any kind of word to its <b>base root mode</b>, similar to stemming"
   ]
  },
  {
   "cell_type": "code",
   "execution_count": 49,
   "id": "13f1cf93",
   "metadata": {},
   "outputs": [
    {
     "name": "stderr",
     "output_type": "stream",
     "text": [
      "[nltk_data] Downloading package wordnet to\n",
      "[nltk_data]     C:\\Users\\user\\AppData\\Roaming\\nltk_data...\n",
      "[nltk_data]   Package wordnet is already up-to-date!\n",
      "[nltk_data] Downloading package omw-1.4 to\n",
      "[nltk_data]     C:\\Users\\user\\AppData\\Roaming\\nltk_data...\n",
      "[nltk_data]   Unzipping corpora\\omw-1.4.zip.\n"
     ]
    },
    {
     "data": {
      "text/plain": [
       "True"
      ]
     },
     "execution_count": 49,
     "metadata": {},
     "output_type": "execute_result"
    }
   ],
   "source": [
    "nltk.download('wordnet')\n",
    "nltk.download('omw-1.4') \n",
    "\n",
    "'''\n",
    "Weird error WITHOUT 'omw-1.4', should not happen if using Google Colab\n",
    "'''"
   ]
  },
  {
   "cell_type": "code",
   "execution_count": 50,
   "id": "b118fbd2",
   "metadata": {},
   "outputs": [],
   "source": [
    "from nltk.stem import WordNetLemmatizer\n",
    "wnlem = WordNetLemmatizer()"
   ]
  },
  {
   "cell_type": "code",
   "execution_count": 52,
   "id": "3604481c",
   "metadata": {},
   "outputs": [
    {
     "name": "stdout",
     "output_type": "stream",
     "text": [
      "rocks :  rock\n",
      "cries :  cry\n"
     ]
    }
   ],
   "source": [
    "#Lemmatization in action\n",
    "\n",
    "print(\"rocks : \",wnlem.lemmatize(\"rocks\"))\n",
    "print(\"cries : \",wnlem.lemmatize(\"cries\"))"
   ]
  },
  {
   "cell_type": "markdown",
   "id": "99dff7e9",
   "metadata": {},
   "source": [
    "<h3>How is Lemmatization different from Stemming?</h3>\n",
    "\n",
    "Stemming,\n",
    "<ul>\n",
    "    <li>part of word is chopped off (at tail end) to arrive at the end of the word(it will remove the last word)</li>\n",
    "</ul>\n",
    "\n",
    "Example, \n",
    "\n",
    "<code>words = ['program','programs','programmer','programming','programmers']</code>\n",
    "\n",
    "After stemming will output, \n",
    "\n",
    "program  :  program<br>\n",
    "programs  :  program<br>\n",
    "programmer  :  programm<br>\n",
    "programming  :  program<br>\n",
    "programmers  :  programm<br>\n",
    "\n",
    "<b>Stemming algorithm</b> don't actually know the meaning of the word in the language it belongs to. It might also change the meaning of the word too!\n",
    "\n",
    "<b>Lemmatization</b> have this knowledge!\n",
    "\n",
    "<b><center>Lemma vs Stemma</center></b>"
   ]
  },
  {
   "cell_type": "code",
   "execution_count": 53,
   "id": "a45ee475",
   "metadata": {},
   "outputs": [
    {
     "name": "stdout",
     "output_type": "stream",
     "text": [
      "studi\n"
     ]
    }
   ],
   "source": [
    "#Stemma\n",
    "word = 'studies'\n",
    "print(ps.stem(word))"
   ]
  },
  {
   "cell_type": "code",
   "execution_count": 55,
   "id": "5cd057e5",
   "metadata": {},
   "outputs": [
    {
     "name": "stdout",
     "output_type": "stream",
     "text": [
      "study\n"
     ]
    }
   ],
   "source": [
    "#Lemma\n",
    "print(wnlem.lemmatize(word))"
   ]
  },
  {
   "cell_type": "markdown",
   "id": "c7ab318d",
   "metadata": {},
   "source": [
    "| Stemming | Lemmatization |\n",
    "| :- | :- | \n",
    "| Faster because it chops word without context of sentences | Slower, but knows context of word before proceeding \n",
    "| Rule-based approach | Dictionary-based approach\n",
    "| Less accurate | More accurate compared to stemming\n",
    "| May create non-existence meaning of word after conversion | Always gives dictionary meaning word while converting into root form\n",
    "| Preferred when meaning of word is not important for analysis, e.g spam detection | Recommended when meaning of word is important for analysis,e.g question answer\n",
    "\n",
    "---\n"
   ]
  },
  {
   "cell_type": "markdown",
   "id": "95c68836",
   "metadata": {},
   "source": [
    "<h3><center>TextBlob.correct() Method</center></h3>\n",
    "\n",
    "When to use?\n",
    "\n",
    "When you are doing analysis, and you want perfect words (no spelling mistakes). <code>TextBlob.correct()</code> will try to recorrect our words according to the dictionary\n"
   ]
  },
  {
   "cell_type": "code",
   "execution_count": 58,
   "id": "60be82b2",
   "metadata": {},
   "outputs": [],
   "source": [
    "#!pip install textblob --Run once!-- Not needed in Colab/Only other IDEs\n",
    "from textblob import TextBlob"
   ]
  },
  {
   "cell_type": "code",
   "execution_count": 63,
   "id": "18710801",
   "metadata": {},
   "outputs": [
    {
     "name": "stdout",
     "output_type": "stream",
     "text": [
      "XYZ is a good company and always value their employees.\n"
     ]
    }
   ],
   "source": [
    "test = TextBlob('XYZ is a good compny and alays valule ttheir employees.')\n",
    "test = test.correct()\n",
    "print(test)"
   ]
  },
  {
   "cell_type": "code",
   "execution_count": 67,
   "id": "a458b38f",
   "metadata": {},
   "outputs": [
    {
     "name": "stdout",
     "output_type": "stream",
     "text": [
      "AESPA needs more recognition from the world.\n"
     ]
    }
   ],
   "source": [
    "test2 = TextBlob('AESPA needs morer recogniton from teh world.')\n",
    "test2= test2.correct()\n",
    "print(test2)"
   ]
  },
  {
   "cell_type": "markdown",
   "id": "a825e7b3",
   "metadata": {},
   "source": [
    "After creating the class, pass our user reviews in the <code>TextBlob()</code>\n",
    "You can pass entire dataset in there too.\n",
    "\n",
    "When is this useful?<br>\n",
    "\n",
    "Assuming that user reviews are not written in perfect english/spelling mistakes/shortforms. It will autocorrect it!"
   ]
  },
  {
   "cell_type": "markdown",
   "id": "c2c87a16",
   "metadata": {},
   "source": [
    "<h4>Can you apply the method to other languages too?</h4>\n",
    "\n",
    "Suppose that you are doing a sentiment analysis to a Malaysian company.\n",
    "\n",
    "It might be possible that <b>reviews are mixed/not in English.</b>\n",
    "\n",
    "<code>TextBlob()</code> can also help in Malay language. (example)"
   ]
  },
  {
   "cell_type": "code",
   "execution_count": 69,
   "id": "6f64ea1e",
   "metadata": {},
   "outputs": [
    {
     "name": "stdout",
     "output_type": "stream",
     "text": [
      "ms\n"
     ]
    }
   ],
   "source": [
    "sample_text = 'Adakah saudara faham'\n",
    "check = TextBlob(sample_text)\n",
    "print(check.detect_language())\n",
    "\n",
    "#ms -- malaysian"
   ]
  },
  {
   "cell_type": "markdown",
   "id": "0aa819dd",
   "metadata": {},
   "source": [
    "<h4>Performing Translation from MS to Target Language</h4>"
   ]
  },
  {
   "cell_type": "code",
   "execution_count": 72,
   "id": "cdb2298c",
   "metadata": {},
   "outputs": [
    {
     "name": "stdout",
     "output_type": "stream",
     "text": [
      "Do you understand\n"
     ]
    }
   ],
   "source": [
    "print(check.translate(to='en'))"
   ]
  },
  {
   "cell_type": "markdown",
   "id": "d2e539fa",
   "metadata": {},
   "source": [
    "<h1><center>VADER</center></h1>\n",
    "\n",
    "Valence<br>Aware<br>Dictionary<br>and sEntiment<br>Reasoner\n",
    "\n",
    "is a <b>rule-based sentiment analysis tool</b> specifically attuned to <b>sentiments expressed in social media</b>\n",
    "\n",
    "Used for sentiment analysis which has both polarities (negative/positive)\n",
    "\n",
    "Used to quantify <b>how much of positive or negative</b> emotion the text and also <b>the intensity of emotion</b>\n",
    "\n",
    "| Advantages\n",
    "| :-\n",
    "| Does not require any training data\n",
    "| Can very well understand sentiment of text containing emoticons,slangs,conjunctions,capital words,punctuations etc.\n",
    "| Works excellent on social media text\n",
    " "
   ]
  },
  {
   "cell_type": "code",
   "execution_count": 84,
   "id": "35137228",
   "metadata": {},
   "outputs": [],
   "source": [
    "#!pip install nltk[twitter] --RUN ONCE ONLY--"
   ]
  },
  {
   "cell_type": "markdown",
   "id": "94d806cb",
   "metadata": {},
   "source": [
    "\n",
    "VADER is going to use Twython to perfrom sent. analysis from this pip\n"
   ]
  },
  {
   "cell_type": "markdown",
   "id": "f79face5",
   "metadata": {},
   "source": [
    "<h4>Downloading dictionary for VADER</h4>"
   ]
  },
  {
   "cell_type": "code",
   "execution_count": 78,
   "id": "918e8af6",
   "metadata": {},
   "outputs": [
    {
     "name": "stderr",
     "output_type": "stream",
     "text": [
      "[nltk_data] Downloading package vader_lexicon to\n",
      "[nltk_data]     C:\\Users\\user\\AppData\\Roaming\\nltk_data...\n"
     ]
    },
    {
     "data": {
      "text/plain": [
       "True"
      ]
     },
     "execution_count": 78,
     "metadata": {},
     "output_type": "execute_result"
    }
   ],
   "source": [
    "import nltk\n",
    "nltk.download('vader_lexicon') # Lexicon -- is a dictionary"
   ]
  },
  {
   "cell_type": "code",
   "execution_count": 79,
   "id": "f9461795",
   "metadata": {},
   "outputs": [],
   "source": [
    "from nltk.sentiment.vader import SentimentIntensityAnalyzer\n",
    "vader = SentimentIntensityAnalyzer()"
   ]
  },
  {
   "cell_type": "markdown",
   "id": "5eb64a9f",
   "metadata": {},
   "source": [
    "<h2>Using VADER</h2>"
   ]
  },
  {
   "cell_type": "code",
   "execution_count": 80,
   "id": "393e68ca",
   "metadata": {},
   "outputs": [
    {
     "data": {
      "text/plain": [
       "{'neg': 0.0, 'neu': 0.4, 'pos': 0.6, 'compound': 0.6697}"
      ]
     },
     "execution_count": 80,
     "metadata": {},
     "output_type": "execute_result"
    }
   ],
   "source": [
    "sample = 'I really love ice cream'\n",
    "vader.polarity_scores(sample)"
   ]
  },
  {
   "cell_type": "markdown",
   "id": "4275b4da",
   "metadata": {},
   "source": [
    "<code>'neg'</code> shows negative score<br>\n",
    "<code>'neu'</code> shows neutral score<br>\n",
    "<code>'pos'</code> shows positive score<br>\n",
    "<code>'compound'</code> compound score(all scores combined)\n",
    "\n",
    "<h4>Compound Score</h4>\n",
    "\n",
    "Compound score is <b>sum of positive,negative & neutral</b> scores which is then normalized between <b>-1 (most extreme negative)</b> and <b>+1 (most extreme positive</b>\n",
    "\n",
    "Closer to +1, higher positivity of the text and <b>vice versa</b>"
   ]
  },
  {
   "cell_type": "code",
   "execution_count": 82,
   "id": "9255ab06",
   "metadata": {},
   "outputs": [
    {
     "data": {
      "text/plain": [
       "{'neg': 0.323, 'neu': 0.677, 'pos': 0.0, 'compound': -0.3374}"
      ]
     },
     "execution_count": 82,
     "metadata": {},
     "output_type": "execute_result"
    }
   ],
   "source": [
    "# Negative review example\n",
    "sample = \"I really don't like mint ice cream\"\n",
    "vader.polarity_scores(sample)"
   ]
  },
  {
   "cell_type": "code",
   "execution_count": 85,
   "id": "597c311d",
   "metadata": {},
   "outputs": [
    {
     "data": {
      "text/plain": [
       "{'neg': 0.0, 'neu': 0.612, 'pos': 0.388, 'compound': 0.2263}"
      ]
     },
     "execution_count": 85,
     "metadata": {},
     "output_type": "execute_result"
    }
   ],
   "source": [
    "sample = \"Blackpink's songs are okay\"\n",
    "vader.polarity_scores(sample)"
   ]
  },
  {
   "cell_type": "markdown",
   "id": "0d1adb7b",
   "metadata": {},
   "source": [
    "<h2>Applying VADER on real dataset</h2>"
   ]
  },
  {
   "cell_type": "code",
   "execution_count": 87,
   "id": "1f415a22",
   "metadata": {},
   "outputs": [
    {
     "data": {
      "text/html": [
       "<div>\n",
       "<style scoped>\n",
       "    .dataframe tbody tr th:only-of-type {\n",
       "        vertical-align: middle;\n",
       "    }\n",
       "\n",
       "    .dataframe tbody tr th {\n",
       "        vertical-align: top;\n",
       "    }\n",
       "\n",
       "    .dataframe thead th {\n",
       "        text-align: right;\n",
       "    }\n",
       "</style>\n",
       "<table border=\"1\" class=\"dataframe\">\n",
       "  <thead>\n",
       "    <tr style=\"text-align: right;\">\n",
       "      <th></th>\n",
       "      <th>label</th>\n",
       "      <th>review</th>\n",
       "    </tr>\n",
       "  </thead>\n",
       "  <tbody>\n",
       "    <tr>\n",
       "      <th>0</th>\n",
       "      <td>pos</td>\n",
       "      <td>Stuning even for the non-gamer: This sound tra...</td>\n",
       "    </tr>\n",
       "    <tr>\n",
       "      <th>1</th>\n",
       "      <td>pos</td>\n",
       "      <td>The best soundtrack ever to anything.: I'm rea...</td>\n",
       "    </tr>\n",
       "    <tr>\n",
       "      <th>2</th>\n",
       "      <td>pos</td>\n",
       "      <td>Amazing!: This soundtrack is my favorite music...</td>\n",
       "    </tr>\n",
       "    <tr>\n",
       "      <th>3</th>\n",
       "      <td>pos</td>\n",
       "      <td>Excellent Soundtrack: I truly like this soundt...</td>\n",
       "    </tr>\n",
       "    <tr>\n",
       "      <th>4</th>\n",
       "      <td>pos</td>\n",
       "      <td>Remember, Pull Your Jaw Off The Floor After He...</td>\n",
       "    </tr>\n",
       "  </tbody>\n",
       "</table>\n",
       "</div>"
      ],
      "text/plain": [
       "  label                                             review\n",
       "0   pos  Stuning even for the non-gamer: This sound tra...\n",
       "1   pos  The best soundtrack ever to anything.: I'm rea...\n",
       "2   pos  Amazing!: This soundtrack is my favorite music...\n",
       "3   pos  Excellent Soundtrack: I truly like this soundt...\n",
       "4   pos  Remember, Pull Your Jaw Off The Floor After He..."
      ]
     },
     "execution_count": 87,
     "metadata": {},
     "output_type": "execute_result"
    }
   ],
   "source": [
    "import pandas as pd\n",
    "data = pd.read_csv('amazonreviews.tsv',sep='\\t')\n",
    "data.head()\n",
    "# We will be focusing on the reviews"
   ]
  },
  {
   "cell_type": "markdown",
   "id": "8ebefd63",
   "metadata": {},
   "source": [
    "<h3>Performing Explarotary Data Analysis</h3>\n",
    "\n",
    "1. How many no. of reviews we are going to deal with?"
   ]
  },
  {
   "cell_type": "code",
   "execution_count": 89,
   "id": "ae152b04",
   "metadata": {},
   "outputs": [
    {
     "data": {
      "text/plain": [
       "(10000, 2)"
      ]
     },
     "execution_count": 89,
     "metadata": {},
     "output_type": "execute_result"
    }
   ],
   "source": [
    "data.shape\n",
    "#10000 reviews and 2 columns"
   ]
  },
  {
   "cell_type": "markdown",
   "id": "62119a24",
   "metadata": {},
   "source": [
    "2. Are there any missing values? Checking missing values..\n",
    "\n",
    "<code>.dropna()</code> will remove all missing values\n",
    "\n",
    "<code>inplace=True</code> will remove all missing values <b>PERMANENTLY</b>\n",
    "\n",
    "So if only .dropna() without inplace, the changes will take place only in this cell"
   ]
  },
  {
   "cell_type": "code",
   "execution_count": 90,
   "id": "0d556880",
   "metadata": {},
   "outputs": [],
   "source": [
    "data.dropna(inplace=True)"
   ]
  },
  {
   "cell_type": "code",
   "execution_count": 91,
   "id": "b33c9982",
   "metadata": {},
   "outputs": [
    {
     "data": {
      "text/plain": [
       "(10000, 2)"
      ]
     },
     "execution_count": 91,
     "metadata": {},
     "output_type": "execute_result"
    }
   ],
   "source": [
    "data.shape"
   ]
  },
  {
   "cell_type": "markdown",
   "id": "e315aa69",
   "metadata": {},
   "source": [
    "Shape is still the same before & after <code>.dropna()</code>. \n",
    "\n",
    "So there are <b>no missing values</b>.\n",
    "\n",
    "Good news!\n",
    "\n",
    "3. What are the columns in this dataset?"
   ]
  },
  {
   "cell_type": "code",
   "execution_count": 92,
   "id": "c69274c6",
   "metadata": {},
   "outputs": [
    {
     "data": {
      "text/plain": [
       "Index(['label', 'review'], dtype='object')"
      ]
     },
     "execution_count": 92,
     "metadata": {},
     "output_type": "execute_result"
    }
   ],
   "source": [
    "data.columns"
   ]
  },
  {
   "cell_type": "markdown",
   "id": "e432386e",
   "metadata": {},
   "source": [
    "In summary we are dealing with,\n",
    "<ul>\n",
    "    <li>10000 amazon reviews</li>\n",
    "    <li>No missing values</li>\n",
    "    <li>The column names are <b>label</b> and <b>review</b></li>\n",
    "</ul>\n",
    "\n",
    "Additionally, you can check for how many <b>positive or negative reviews</b> are there"
   ]
  },
  {
   "cell_type": "code",
   "execution_count": 93,
   "id": "7c2281d2",
   "metadata": {},
   "outputs": [
    {
     "data": {
      "text/plain": [
       "neg    5097\n",
       "pos    4903\n",
       "Name: label, dtype: int64"
      ]
     },
     "execution_count": 93,
     "metadata": {},
     "output_type": "execute_result"
    }
   ],
   "source": [
    "data['label'].value_counts()"
   ]
  },
  {
   "cell_type": "markdown",
   "id": "77bcf345",
   "metadata": {},
   "source": [
    "So, we are dealing with\n",
    "\n",
    "<b>5097 negative reviews</b><br>\n",
    "<b>4903 positive reviews</b>"
   ]
  },
  {
   "cell_type": "markdown",
   "id": "e4b992e9",
   "metadata": {},
   "source": [
    "---\n",
    "<h2>Lambda Functions</h2>\n",
    "\n",
    "also known as anonymous functions.\n",
    "<ul>\n",
    "    <li>can take any number of <b>arguments</b>, but can only have <b>one expression</b>\n",
    "</ul>\n",
    "\n"
   ]
  },
  {
   "cell_type": "code",
   "execution_count": 94,
   "id": "b6eaa0cc",
   "metadata": {},
   "outputs": [
    {
     "name": "stdout",
     "output_type": "stream",
     "text": [
      "15\n"
     ]
    }
   ],
   "source": [
    "x = lambda x : x + 10\n",
    "print(x(5))"
   ]
  },
  {
   "cell_type": "markdown",
   "id": "4c9e6d48",
   "metadata": {},
   "source": [
    "<code>x1 = lambda x2 : x3 + 10</code>\n",
    "\n",
    "<code>x1</code> is the name of function<br>\n",
    "<code>x2</code> is the argument<br>\n",
    "<code>x3 + 10</code> is the expression<br>\n",
    "\n",
    "So when we pass <code>x(5)</code> into <code>x = lambda x : x + 10</code>\n",
    "\n",
    "It will become,\n",
    "\n",
    "<code>x1 = lambda x2 : 5 + 10 </code>\n",
    "\n",
    "<b>Remember, you can pass any number of arguments in a lambda</b>"
   ]
  },
  {
   "cell_type": "code",
   "execution_count": 95,
   "id": "e061848c",
   "metadata": {},
   "outputs": [
    {
     "name": "stdout",
     "output_type": "stream",
     "text": [
      "21\n"
     ]
    }
   ],
   "source": [
    "x = lambda a,b,c : a + b + c\n",
    "print(x(10,5,6))"
   ]
  },
  {
   "cell_type": "markdown",
   "id": "8a7fa647",
   "metadata": {},
   "source": [
    "<code>x = lambda a,b,c : a + b + c</code>\n",
    "\n",
    "Since <code>x(10,5,6)</code> is passed,\n",
    "\n",
    "It will become <code> x = lambda a,b,c : 10 + 5 + 6 </code>\n",
    "\n",
    "Output : <code>21</code>\n",
    "\n",
    "----"
   ]
  },
  {
   "cell_type": "markdown",
   "id": "d6896a6f",
   "metadata": {},
   "source": [
    "<h2>Applying Lambda function on our dataset</h2>\n",
    "\n",
    "Since we have 2 columns in our dataset, <code>['label','review']</code>\n",
    "\n",
    "We only need <code>['review']</code> for our analysis\n",
    "\n",
    "<b>But why lambda?</b>\n",
    "\n",
    "If we don't use lambda,\n",
    "\n",
    "We need to use <code>for</code> loop and put it into a <code>list</code>.. etc, many steps. Veri inefficient\n",
    "\n",
    "<b>What is happening with the lambda?</b>\n",
    "\n",
    "Each <b>review</b> in <code>data['review']</code> is going to be passed into <code>vader.polarity_scores</code> and will be calculated. <br>Then it is stored into a variable named <code>data['scores']</code>"
   ]
  },
  {
   "cell_type": "code",
   "execution_count": 97,
   "id": "5f3b11e9",
   "metadata": {},
   "outputs": [],
   "source": [
    "data['scores'] = data['review'].apply(lambda review : vader.polarity_scores(review))"
   ]
  },
  {
   "cell_type": "code",
   "execution_count": 98,
   "id": "d031a13e",
   "metadata": {},
   "outputs": [
    {
     "data": {
      "text/html": [
       "<div>\n",
       "<style scoped>\n",
       "    .dataframe tbody tr th:only-of-type {\n",
       "        vertical-align: middle;\n",
       "    }\n",
       "\n",
       "    .dataframe tbody tr th {\n",
       "        vertical-align: top;\n",
       "    }\n",
       "\n",
       "    .dataframe thead th {\n",
       "        text-align: right;\n",
       "    }\n",
       "</style>\n",
       "<table border=\"1\" class=\"dataframe\">\n",
       "  <thead>\n",
       "    <tr style=\"text-align: right;\">\n",
       "      <th></th>\n",
       "      <th>label</th>\n",
       "      <th>review</th>\n",
       "      <th>scores</th>\n",
       "    </tr>\n",
       "  </thead>\n",
       "  <tbody>\n",
       "    <tr>\n",
       "      <th>0</th>\n",
       "      <td>pos</td>\n",
       "      <td>Stuning even for the non-gamer: This sound tra...</td>\n",
       "      <td>{'neg': 0.088, 'neu': 0.669, 'pos': 0.243, 'co...</td>\n",
       "    </tr>\n",
       "    <tr>\n",
       "      <th>1</th>\n",
       "      <td>pos</td>\n",
       "      <td>The best soundtrack ever to anything.: I'm rea...</td>\n",
       "      <td>{'neg': 0.018, 'neu': 0.837, 'pos': 0.145, 'co...</td>\n",
       "    </tr>\n",
       "    <tr>\n",
       "      <th>2</th>\n",
       "      <td>pos</td>\n",
       "      <td>Amazing!: This soundtrack is my favorite music...</td>\n",
       "      <td>{'neg': 0.04, 'neu': 0.692, 'pos': 0.268, 'com...</td>\n",
       "    </tr>\n",
       "    <tr>\n",
       "      <th>3</th>\n",
       "      <td>pos</td>\n",
       "      <td>Excellent Soundtrack: I truly like this soundt...</td>\n",
       "      <td>{'neg': 0.09, 'neu': 0.615, 'pos': 0.295, 'com...</td>\n",
       "    </tr>\n",
       "    <tr>\n",
       "      <th>4</th>\n",
       "      <td>pos</td>\n",
       "      <td>Remember, Pull Your Jaw Off The Floor After He...</td>\n",
       "      <td>{'neg': 0.0, 'neu': 0.746, 'pos': 0.254, 'comp...</td>\n",
       "    </tr>\n",
       "    <tr>\n",
       "      <th>...</th>\n",
       "      <td>...</td>\n",
       "      <td>...</td>\n",
       "      <td>...</td>\n",
       "    </tr>\n",
       "    <tr>\n",
       "      <th>9995</th>\n",
       "      <td>pos</td>\n",
       "      <td>A revelation of life in small town America in ...</td>\n",
       "      <td>{'neg': 0.017, 'neu': 0.846, 'pos': 0.136, 'co...</td>\n",
       "    </tr>\n",
       "    <tr>\n",
       "      <th>9996</th>\n",
       "      <td>pos</td>\n",
       "      <td>Great biography of a very interesting journali...</td>\n",
       "      <td>{'neg': 0.0, 'neu': 0.868, 'pos': 0.132, 'comp...</td>\n",
       "    </tr>\n",
       "    <tr>\n",
       "      <th>9997</th>\n",
       "      <td>neg</td>\n",
       "      <td>Interesting Subject; Poor Presentation: You'd ...</td>\n",
       "      <td>{'neg': 0.084, 'neu': 0.754, 'pos': 0.162, 'co...</td>\n",
       "    </tr>\n",
       "    <tr>\n",
       "      <th>9998</th>\n",
       "      <td>neg</td>\n",
       "      <td>Don't buy: The box looked used and it is obvio...</td>\n",
       "      <td>{'neg': 0.091, 'neu': 0.909, 'pos': 0.0, 'comp...</td>\n",
       "    </tr>\n",
       "    <tr>\n",
       "      <th>9999</th>\n",
       "      <td>pos</td>\n",
       "      <td>Beautiful Pen and Fast Delivery.: The pen was ...</td>\n",
       "      <td>{'neg': 0.028, 'neu': 0.811, 'pos': 0.161, 'co...</td>\n",
       "    </tr>\n",
       "  </tbody>\n",
       "</table>\n",
       "<p>10000 rows × 3 columns</p>\n",
       "</div>"
      ],
      "text/plain": [
       "     label                                             review  \\\n",
       "0      pos  Stuning even for the non-gamer: This sound tra...   \n",
       "1      pos  The best soundtrack ever to anything.: I'm rea...   \n",
       "2      pos  Amazing!: This soundtrack is my favorite music...   \n",
       "3      pos  Excellent Soundtrack: I truly like this soundt...   \n",
       "4      pos  Remember, Pull Your Jaw Off The Floor After He...   \n",
       "...    ...                                                ...   \n",
       "9995   pos  A revelation of life in small town America in ...   \n",
       "9996   pos  Great biography of a very interesting journali...   \n",
       "9997   neg  Interesting Subject; Poor Presentation: You'd ...   \n",
       "9998   neg  Don't buy: The box looked used and it is obvio...   \n",
       "9999   pos  Beautiful Pen and Fast Delivery.: The pen was ...   \n",
       "\n",
       "                                                 scores  \n",
       "0     {'neg': 0.088, 'neu': 0.669, 'pos': 0.243, 'co...  \n",
       "1     {'neg': 0.018, 'neu': 0.837, 'pos': 0.145, 'co...  \n",
       "2     {'neg': 0.04, 'neu': 0.692, 'pos': 0.268, 'com...  \n",
       "3     {'neg': 0.09, 'neu': 0.615, 'pos': 0.295, 'com...  \n",
       "4     {'neg': 0.0, 'neu': 0.746, 'pos': 0.254, 'comp...  \n",
       "...                                                 ...  \n",
       "9995  {'neg': 0.017, 'neu': 0.846, 'pos': 0.136, 'co...  \n",
       "9996  {'neg': 0.0, 'neu': 0.868, 'pos': 0.132, 'comp...  \n",
       "9997  {'neg': 0.084, 'neu': 0.754, 'pos': 0.162, 'co...  \n",
       "9998  {'neg': 0.091, 'neu': 0.909, 'pos': 0.0, 'comp...  \n",
       "9999  {'neg': 0.028, 'neu': 0.811, 'pos': 0.161, 'co...  \n",
       "\n",
       "[10000 rows x 3 columns]"
      ]
     },
     "execution_count": 98,
     "metadata": {},
     "output_type": "execute_result"
    }
   ],
   "source": [
    "data"
   ]
  },
  {
   "cell_type": "markdown",
   "id": "3a72f43c",
   "metadata": {},
   "source": [
    "<h3>Retrieving review and scores</h3>"
   ]
  },
  {
   "cell_type": "code",
   "execution_count": 99,
   "id": "1771ae26",
   "metadata": {},
   "outputs": [
    {
     "data": {
      "text/html": [
       "<div>\n",
       "<style scoped>\n",
       "    .dataframe tbody tr th:only-of-type {\n",
       "        vertical-align: middle;\n",
       "    }\n",
       "\n",
       "    .dataframe tbody tr th {\n",
       "        vertical-align: top;\n",
       "    }\n",
       "\n",
       "    .dataframe thead th {\n",
       "        text-align: right;\n",
       "    }\n",
       "</style>\n",
       "<table border=\"1\" class=\"dataframe\">\n",
       "  <thead>\n",
       "    <tr style=\"text-align: right;\">\n",
       "      <th></th>\n",
       "      <th>review</th>\n",
       "      <th>scores</th>\n",
       "    </tr>\n",
       "  </thead>\n",
       "  <tbody>\n",
       "    <tr>\n",
       "      <th>0</th>\n",
       "      <td>Stuning even for the non-gamer: This sound tra...</td>\n",
       "      <td>{'neg': 0.088, 'neu': 0.669, 'pos': 0.243, 'co...</td>\n",
       "    </tr>\n",
       "    <tr>\n",
       "      <th>1</th>\n",
       "      <td>The best soundtrack ever to anything.: I'm rea...</td>\n",
       "      <td>{'neg': 0.018, 'neu': 0.837, 'pos': 0.145, 'co...</td>\n",
       "    </tr>\n",
       "    <tr>\n",
       "      <th>2</th>\n",
       "      <td>Amazing!: This soundtrack is my favorite music...</td>\n",
       "      <td>{'neg': 0.04, 'neu': 0.692, 'pos': 0.268, 'com...</td>\n",
       "    </tr>\n",
       "    <tr>\n",
       "      <th>3</th>\n",
       "      <td>Excellent Soundtrack: I truly like this soundt...</td>\n",
       "      <td>{'neg': 0.09, 'neu': 0.615, 'pos': 0.295, 'com...</td>\n",
       "    </tr>\n",
       "    <tr>\n",
       "      <th>4</th>\n",
       "      <td>Remember, Pull Your Jaw Off The Floor After He...</td>\n",
       "      <td>{'neg': 0.0, 'neu': 0.746, 'pos': 0.254, 'comp...</td>\n",
       "    </tr>\n",
       "    <tr>\n",
       "      <th>...</th>\n",
       "      <td>...</td>\n",
       "      <td>...</td>\n",
       "    </tr>\n",
       "    <tr>\n",
       "      <th>9995</th>\n",
       "      <td>A revelation of life in small town America in ...</td>\n",
       "      <td>{'neg': 0.017, 'neu': 0.846, 'pos': 0.136, 'co...</td>\n",
       "    </tr>\n",
       "    <tr>\n",
       "      <th>9996</th>\n",
       "      <td>Great biography of a very interesting journali...</td>\n",
       "      <td>{'neg': 0.0, 'neu': 0.868, 'pos': 0.132, 'comp...</td>\n",
       "    </tr>\n",
       "    <tr>\n",
       "      <th>9997</th>\n",
       "      <td>Interesting Subject; Poor Presentation: You'd ...</td>\n",
       "      <td>{'neg': 0.084, 'neu': 0.754, 'pos': 0.162, 'co...</td>\n",
       "    </tr>\n",
       "    <tr>\n",
       "      <th>9998</th>\n",
       "      <td>Don't buy: The box looked used and it is obvio...</td>\n",
       "      <td>{'neg': 0.091, 'neu': 0.909, 'pos': 0.0, 'comp...</td>\n",
       "    </tr>\n",
       "    <tr>\n",
       "      <th>9999</th>\n",
       "      <td>Beautiful Pen and Fast Delivery.: The pen was ...</td>\n",
       "      <td>{'neg': 0.028, 'neu': 0.811, 'pos': 0.161, 'co...</td>\n",
       "    </tr>\n",
       "  </tbody>\n",
       "</table>\n",
       "<p>10000 rows × 2 columns</p>\n",
       "</div>"
      ],
      "text/plain": [
       "                                                 review  \\\n",
       "0     Stuning even for the non-gamer: This sound tra...   \n",
       "1     The best soundtrack ever to anything.: I'm rea...   \n",
       "2     Amazing!: This soundtrack is my favorite music...   \n",
       "3     Excellent Soundtrack: I truly like this soundt...   \n",
       "4     Remember, Pull Your Jaw Off The Floor After He...   \n",
       "...                                                 ...   \n",
       "9995  A revelation of life in small town America in ...   \n",
       "9996  Great biography of a very interesting journali...   \n",
       "9997  Interesting Subject; Poor Presentation: You'd ...   \n",
       "9998  Don't buy: The box looked used and it is obvio...   \n",
       "9999  Beautiful Pen and Fast Delivery.: The pen was ...   \n",
       "\n",
       "                                                 scores  \n",
       "0     {'neg': 0.088, 'neu': 0.669, 'pos': 0.243, 'co...  \n",
       "1     {'neg': 0.018, 'neu': 0.837, 'pos': 0.145, 'co...  \n",
       "2     {'neg': 0.04, 'neu': 0.692, 'pos': 0.268, 'com...  \n",
       "3     {'neg': 0.09, 'neu': 0.615, 'pos': 0.295, 'com...  \n",
       "4     {'neg': 0.0, 'neu': 0.746, 'pos': 0.254, 'comp...  \n",
       "...                                                 ...  \n",
       "9995  {'neg': 0.017, 'neu': 0.846, 'pos': 0.136, 'co...  \n",
       "9996  {'neg': 0.0, 'neu': 0.868, 'pos': 0.132, 'comp...  \n",
       "9997  {'neg': 0.084, 'neu': 0.754, 'pos': 0.162, 'co...  \n",
       "9998  {'neg': 0.091, 'neu': 0.909, 'pos': 0.0, 'comp...  \n",
       "9999  {'neg': 0.028, 'neu': 0.811, 'pos': 0.161, 'co...  \n",
       "\n",
       "[10000 rows x 2 columns]"
      ]
     },
     "execution_count": 99,
     "metadata": {},
     "output_type": "execute_result"
    }
   ],
   "source": [
    "data[['review','scores']]"
   ]
  },
  {
   "cell_type": "markdown",
   "id": "46413041",
   "metadata": {},
   "source": [
    "After all that, the most important score is the <b>compound score</b>\n",
    "\n",
    "Closer to <b>+1, the higher the positivity of the text</b> and <b>vice versa</b>"
   ]
  },
  {
   "cell_type": "markdown",
   "id": "5fd5e250",
   "metadata": {},
   "source": [
    "<h3>Compound scores of dataset</h3>\n",
    "\n",
    "The lambda function is going to store <code><b>['scores']</b></code> into the <code><b>scores_dict</b></code>, \n",
    "\n",
    "and from <code><b>scores_dict['compound']</b></code> only the values of <code>{'compound' : value}</code> is going to be <b>taken and added</b>\n",
    "\n",
    "into a new column <code>data['compound']</code>"
   ]
  },
  {
   "cell_type": "code",
   "execution_count": 101,
   "id": "e44e4e43",
   "metadata": {},
   "outputs": [
    {
     "data": {
      "text/html": [
       "<div>\n",
       "<style scoped>\n",
       "    .dataframe tbody tr th:only-of-type {\n",
       "        vertical-align: middle;\n",
       "    }\n",
       "\n",
       "    .dataframe tbody tr th {\n",
       "        vertical-align: top;\n",
       "    }\n",
       "\n",
       "    .dataframe thead th {\n",
       "        text-align: right;\n",
       "    }\n",
       "</style>\n",
       "<table border=\"1\" class=\"dataframe\">\n",
       "  <thead>\n",
       "    <tr style=\"text-align: right;\">\n",
       "      <th></th>\n",
       "      <th>label</th>\n",
       "      <th>review</th>\n",
       "      <th>scores</th>\n",
       "      <th>compound</th>\n",
       "    </tr>\n",
       "  </thead>\n",
       "  <tbody>\n",
       "    <tr>\n",
       "      <th>0</th>\n",
       "      <td>pos</td>\n",
       "      <td>Stuning even for the non-gamer: This sound tra...</td>\n",
       "      <td>{'neg': 0.088, 'neu': 0.669, 'pos': 0.243, 'co...</td>\n",
       "      <td>0.9454</td>\n",
       "    </tr>\n",
       "    <tr>\n",
       "      <th>1</th>\n",
       "      <td>pos</td>\n",
       "      <td>The best soundtrack ever to anything.: I'm rea...</td>\n",
       "      <td>{'neg': 0.018, 'neu': 0.837, 'pos': 0.145, 'co...</td>\n",
       "      <td>0.8957</td>\n",
       "    </tr>\n",
       "    <tr>\n",
       "      <th>2</th>\n",
       "      <td>pos</td>\n",
       "      <td>Amazing!: This soundtrack is my favorite music...</td>\n",
       "      <td>{'neg': 0.04, 'neu': 0.692, 'pos': 0.268, 'com...</td>\n",
       "      <td>0.9858</td>\n",
       "    </tr>\n",
       "    <tr>\n",
       "      <th>3</th>\n",
       "      <td>pos</td>\n",
       "      <td>Excellent Soundtrack: I truly like this soundt...</td>\n",
       "      <td>{'neg': 0.09, 'neu': 0.615, 'pos': 0.295, 'com...</td>\n",
       "      <td>0.9814</td>\n",
       "    </tr>\n",
       "    <tr>\n",
       "      <th>4</th>\n",
       "      <td>pos</td>\n",
       "      <td>Remember, Pull Your Jaw Off The Floor After He...</td>\n",
       "      <td>{'neg': 0.0, 'neu': 0.746, 'pos': 0.254, 'comp...</td>\n",
       "      <td>0.9781</td>\n",
       "    </tr>\n",
       "    <tr>\n",
       "      <th>...</th>\n",
       "      <td>...</td>\n",
       "      <td>...</td>\n",
       "      <td>...</td>\n",
       "      <td>...</td>\n",
       "    </tr>\n",
       "    <tr>\n",
       "      <th>9995</th>\n",
       "      <td>pos</td>\n",
       "      <td>A revelation of life in small town America in ...</td>\n",
       "      <td>{'neg': 0.017, 'neu': 0.846, 'pos': 0.136, 'co...</td>\n",
       "      <td>0.9610</td>\n",
       "    </tr>\n",
       "    <tr>\n",
       "      <th>9996</th>\n",
       "      <td>pos</td>\n",
       "      <td>Great biography of a very interesting journali...</td>\n",
       "      <td>{'neg': 0.0, 'neu': 0.868, 'pos': 0.132, 'comp...</td>\n",
       "      <td>0.9544</td>\n",
       "    </tr>\n",
       "    <tr>\n",
       "      <th>9997</th>\n",
       "      <td>neg</td>\n",
       "      <td>Interesting Subject; Poor Presentation: You'd ...</td>\n",
       "      <td>{'neg': 0.084, 'neu': 0.754, 'pos': 0.162, 'co...</td>\n",
       "      <td>0.9102</td>\n",
       "    </tr>\n",
       "    <tr>\n",
       "      <th>9998</th>\n",
       "      <td>neg</td>\n",
       "      <td>Don't buy: The box looked used and it is obvio...</td>\n",
       "      <td>{'neg': 0.091, 'neu': 0.909, 'pos': 0.0, 'comp...</td>\n",
       "      <td>-0.3595</td>\n",
       "    </tr>\n",
       "    <tr>\n",
       "      <th>9999</th>\n",
       "      <td>pos</td>\n",
       "      <td>Beautiful Pen and Fast Delivery.: The pen was ...</td>\n",
       "      <td>{'neg': 0.028, 'neu': 0.811, 'pos': 0.161, 'co...</td>\n",
       "      <td>0.9107</td>\n",
       "    </tr>\n",
       "  </tbody>\n",
       "</table>\n",
       "<p>10000 rows × 4 columns</p>\n",
       "</div>"
      ],
      "text/plain": [
       "     label                                             review  \\\n",
       "0      pos  Stuning even for the non-gamer: This sound tra...   \n",
       "1      pos  The best soundtrack ever to anything.: I'm rea...   \n",
       "2      pos  Amazing!: This soundtrack is my favorite music...   \n",
       "3      pos  Excellent Soundtrack: I truly like this soundt...   \n",
       "4      pos  Remember, Pull Your Jaw Off The Floor After He...   \n",
       "...    ...                                                ...   \n",
       "9995   pos  A revelation of life in small town America in ...   \n",
       "9996   pos  Great biography of a very interesting journali...   \n",
       "9997   neg  Interesting Subject; Poor Presentation: You'd ...   \n",
       "9998   neg  Don't buy: The box looked used and it is obvio...   \n",
       "9999   pos  Beautiful Pen and Fast Delivery.: The pen was ...   \n",
       "\n",
       "                                                 scores  compound  \n",
       "0     {'neg': 0.088, 'neu': 0.669, 'pos': 0.243, 'co...    0.9454  \n",
       "1     {'neg': 0.018, 'neu': 0.837, 'pos': 0.145, 'co...    0.8957  \n",
       "2     {'neg': 0.04, 'neu': 0.692, 'pos': 0.268, 'com...    0.9858  \n",
       "3     {'neg': 0.09, 'neu': 0.615, 'pos': 0.295, 'com...    0.9814  \n",
       "4     {'neg': 0.0, 'neu': 0.746, 'pos': 0.254, 'comp...    0.9781  \n",
       "...                                                 ...       ...  \n",
       "9995  {'neg': 0.017, 'neu': 0.846, 'pos': 0.136, 'co...    0.9610  \n",
       "9996  {'neg': 0.0, 'neu': 0.868, 'pos': 0.132, 'comp...    0.9544  \n",
       "9997  {'neg': 0.084, 'neu': 0.754, 'pos': 0.162, 'co...    0.9102  \n",
       "9998  {'neg': 0.091, 'neu': 0.909, 'pos': 0.0, 'comp...   -0.3595  \n",
       "9999  {'neg': 0.028, 'neu': 0.811, 'pos': 0.161, 'co...    0.9107  \n",
       "\n",
       "[10000 rows x 4 columns]"
      ]
     },
     "execution_count": 101,
     "metadata": {},
     "output_type": "execute_result"
    }
   ],
   "source": [
    "data['compound'] = data['scores'].apply(lambda scores_dict: scores_dict['compound'])\n",
    "data"
   ]
  },
  {
   "cell_type": "markdown",
   "id": "69180147",
   "metadata": {},
   "source": [
    "<h3>Retrieving review and compound info</h3>"
   ]
  },
  {
   "cell_type": "code",
   "execution_count": 102,
   "id": "64de7622",
   "metadata": {},
   "outputs": [
    {
     "data": {
      "text/html": [
       "<div>\n",
       "<style scoped>\n",
       "    .dataframe tbody tr th:only-of-type {\n",
       "        vertical-align: middle;\n",
       "    }\n",
       "\n",
       "    .dataframe tbody tr th {\n",
       "        vertical-align: top;\n",
       "    }\n",
       "\n",
       "    .dataframe thead th {\n",
       "        text-align: right;\n",
       "    }\n",
       "</style>\n",
       "<table border=\"1\" class=\"dataframe\">\n",
       "  <thead>\n",
       "    <tr style=\"text-align: right;\">\n",
       "      <th></th>\n",
       "      <th>review</th>\n",
       "      <th>compound</th>\n",
       "    </tr>\n",
       "  </thead>\n",
       "  <tbody>\n",
       "    <tr>\n",
       "      <th>0</th>\n",
       "      <td>Stuning even for the non-gamer: This sound tra...</td>\n",
       "      <td>0.9454</td>\n",
       "    </tr>\n",
       "    <tr>\n",
       "      <th>1</th>\n",
       "      <td>The best soundtrack ever to anything.: I'm rea...</td>\n",
       "      <td>0.8957</td>\n",
       "    </tr>\n",
       "    <tr>\n",
       "      <th>2</th>\n",
       "      <td>Amazing!: This soundtrack is my favorite music...</td>\n",
       "      <td>0.9858</td>\n",
       "    </tr>\n",
       "    <tr>\n",
       "      <th>3</th>\n",
       "      <td>Excellent Soundtrack: I truly like this soundt...</td>\n",
       "      <td>0.9814</td>\n",
       "    </tr>\n",
       "    <tr>\n",
       "      <th>4</th>\n",
       "      <td>Remember, Pull Your Jaw Off The Floor After He...</td>\n",
       "      <td>0.9781</td>\n",
       "    </tr>\n",
       "    <tr>\n",
       "      <th>...</th>\n",
       "      <td>...</td>\n",
       "      <td>...</td>\n",
       "    </tr>\n",
       "    <tr>\n",
       "      <th>9995</th>\n",
       "      <td>A revelation of life in small town America in ...</td>\n",
       "      <td>0.9610</td>\n",
       "    </tr>\n",
       "    <tr>\n",
       "      <th>9996</th>\n",
       "      <td>Great biography of a very interesting journali...</td>\n",
       "      <td>0.9544</td>\n",
       "    </tr>\n",
       "    <tr>\n",
       "      <th>9997</th>\n",
       "      <td>Interesting Subject; Poor Presentation: You'd ...</td>\n",
       "      <td>0.9102</td>\n",
       "    </tr>\n",
       "    <tr>\n",
       "      <th>9998</th>\n",
       "      <td>Don't buy: The box looked used and it is obvio...</td>\n",
       "      <td>-0.3595</td>\n",
       "    </tr>\n",
       "    <tr>\n",
       "      <th>9999</th>\n",
       "      <td>Beautiful Pen and Fast Delivery.: The pen was ...</td>\n",
       "      <td>0.9107</td>\n",
       "    </tr>\n",
       "  </tbody>\n",
       "</table>\n",
       "<p>10000 rows × 2 columns</p>\n",
       "</div>"
      ],
      "text/plain": [
       "                                                 review  compound\n",
       "0     Stuning even for the non-gamer: This sound tra...    0.9454\n",
       "1     The best soundtrack ever to anything.: I'm rea...    0.8957\n",
       "2     Amazing!: This soundtrack is my favorite music...    0.9858\n",
       "3     Excellent Soundtrack: I truly like this soundt...    0.9814\n",
       "4     Remember, Pull Your Jaw Off The Floor After He...    0.9781\n",
       "...                                                 ...       ...\n",
       "9995  A revelation of life in small town America in ...    0.9610\n",
       "9996  Great biography of a very interesting journali...    0.9544\n",
       "9997  Interesting Subject; Poor Presentation: You'd ...    0.9102\n",
       "9998  Don't buy: The box looked used and it is obvio...   -0.3595\n",
       "9999  Beautiful Pen and Fast Delivery.: The pen was ...    0.9107\n",
       "\n",
       "[10000 rows x 2 columns]"
      ]
     },
     "execution_count": 102,
     "metadata": {},
     "output_type": "execute_result"
    }
   ],
   "source": [
    "data[['review','compound']]"
   ]
  },
  {
   "cell_type": "markdown",
   "id": "9a4ba261",
   "metadata": {},
   "source": [
    "<h3>Converting float values of compound to positive and negatives</h3>\n",
    "\n",
    "In variable <code>c</code>, we are passing <code>data['compound']</code> score 1 by 1.\n",
    "\n",
    "Then if <code>compound score, c </code> is <b>>= 0</b> it will be labelled as <b>'pos' or positive</b>\n",
    "\n",
    "else, it will be labelled as <b>'neg' or negative</b>\n"
   ]
  },
  {
   "cell_type": "code",
   "execution_count": 107,
   "id": "c44bb55b",
   "metadata": {},
   "outputs": [
    {
     "data": {
      "text/html": [
       "<div>\n",
       "<style scoped>\n",
       "    .dataframe tbody tr th:only-of-type {\n",
       "        vertical-align: middle;\n",
       "    }\n",
       "\n",
       "    .dataframe tbody tr th {\n",
       "        vertical-align: top;\n",
       "    }\n",
       "\n",
       "    .dataframe thead th {\n",
       "        text-align: right;\n",
       "    }\n",
       "</style>\n",
       "<table border=\"1\" class=\"dataframe\">\n",
       "  <thead>\n",
       "    <tr style=\"text-align: right;\">\n",
       "      <th></th>\n",
       "      <th>label</th>\n",
       "      <th>review</th>\n",
       "      <th>scores</th>\n",
       "      <th>compound</th>\n",
       "      <th>sentiment</th>\n",
       "    </tr>\n",
       "  </thead>\n",
       "  <tbody>\n",
       "    <tr>\n",
       "      <th>0</th>\n",
       "      <td>pos</td>\n",
       "      <td>Stuning even for the non-gamer: This sound tra...</td>\n",
       "      <td>{'neg': 0.088, 'neu': 0.669, 'pos': 0.243, 'co...</td>\n",
       "      <td>0.9454</td>\n",
       "      <td>pos</td>\n",
       "    </tr>\n",
       "    <tr>\n",
       "      <th>1</th>\n",
       "      <td>pos</td>\n",
       "      <td>The best soundtrack ever to anything.: I'm rea...</td>\n",
       "      <td>{'neg': 0.018, 'neu': 0.837, 'pos': 0.145, 'co...</td>\n",
       "      <td>0.8957</td>\n",
       "      <td>pos</td>\n",
       "    </tr>\n",
       "    <tr>\n",
       "      <th>2</th>\n",
       "      <td>pos</td>\n",
       "      <td>Amazing!: This soundtrack is my favorite music...</td>\n",
       "      <td>{'neg': 0.04, 'neu': 0.692, 'pos': 0.268, 'com...</td>\n",
       "      <td>0.9858</td>\n",
       "      <td>pos</td>\n",
       "    </tr>\n",
       "    <tr>\n",
       "      <th>3</th>\n",
       "      <td>pos</td>\n",
       "      <td>Excellent Soundtrack: I truly like this soundt...</td>\n",
       "      <td>{'neg': 0.09, 'neu': 0.615, 'pos': 0.295, 'com...</td>\n",
       "      <td>0.9814</td>\n",
       "      <td>pos</td>\n",
       "    </tr>\n",
       "    <tr>\n",
       "      <th>4</th>\n",
       "      <td>pos</td>\n",
       "      <td>Remember, Pull Your Jaw Off The Floor After He...</td>\n",
       "      <td>{'neg': 0.0, 'neu': 0.746, 'pos': 0.254, 'comp...</td>\n",
       "      <td>0.9781</td>\n",
       "      <td>pos</td>\n",
       "    </tr>\n",
       "    <tr>\n",
       "      <th>...</th>\n",
       "      <td>...</td>\n",
       "      <td>...</td>\n",
       "      <td>...</td>\n",
       "      <td>...</td>\n",
       "      <td>...</td>\n",
       "    </tr>\n",
       "    <tr>\n",
       "      <th>9995</th>\n",
       "      <td>pos</td>\n",
       "      <td>A revelation of life in small town America in ...</td>\n",
       "      <td>{'neg': 0.017, 'neu': 0.846, 'pos': 0.136, 'co...</td>\n",
       "      <td>0.9610</td>\n",
       "      <td>pos</td>\n",
       "    </tr>\n",
       "    <tr>\n",
       "      <th>9996</th>\n",
       "      <td>pos</td>\n",
       "      <td>Great biography of a very interesting journali...</td>\n",
       "      <td>{'neg': 0.0, 'neu': 0.868, 'pos': 0.132, 'comp...</td>\n",
       "      <td>0.9544</td>\n",
       "      <td>pos</td>\n",
       "    </tr>\n",
       "    <tr>\n",
       "      <th>9997</th>\n",
       "      <td>neg</td>\n",
       "      <td>Interesting Subject; Poor Presentation: You'd ...</td>\n",
       "      <td>{'neg': 0.084, 'neu': 0.754, 'pos': 0.162, 'co...</td>\n",
       "      <td>0.9102</td>\n",
       "      <td>pos</td>\n",
       "    </tr>\n",
       "    <tr>\n",
       "      <th>9998</th>\n",
       "      <td>neg</td>\n",
       "      <td>Don't buy: The box looked used and it is obvio...</td>\n",
       "      <td>{'neg': 0.091, 'neu': 0.909, 'pos': 0.0, 'comp...</td>\n",
       "      <td>-0.3595</td>\n",
       "      <td>neg</td>\n",
       "    </tr>\n",
       "    <tr>\n",
       "      <th>9999</th>\n",
       "      <td>pos</td>\n",
       "      <td>Beautiful Pen and Fast Delivery.: The pen was ...</td>\n",
       "      <td>{'neg': 0.028, 'neu': 0.811, 'pos': 0.161, 'co...</td>\n",
       "      <td>0.9107</td>\n",
       "      <td>pos</td>\n",
       "    </tr>\n",
       "  </tbody>\n",
       "</table>\n",
       "<p>10000 rows × 5 columns</p>\n",
       "</div>"
      ],
      "text/plain": [
       "     label                                             review  \\\n",
       "0      pos  Stuning even for the non-gamer: This sound tra...   \n",
       "1      pos  The best soundtrack ever to anything.: I'm rea...   \n",
       "2      pos  Amazing!: This soundtrack is my favorite music...   \n",
       "3      pos  Excellent Soundtrack: I truly like this soundt...   \n",
       "4      pos  Remember, Pull Your Jaw Off The Floor After He...   \n",
       "...    ...                                                ...   \n",
       "9995   pos  A revelation of life in small town America in ...   \n",
       "9996   pos  Great biography of a very interesting journali...   \n",
       "9997   neg  Interesting Subject; Poor Presentation: You'd ...   \n",
       "9998   neg  Don't buy: The box looked used and it is obvio...   \n",
       "9999   pos  Beautiful Pen and Fast Delivery.: The pen was ...   \n",
       "\n",
       "                                                 scores  compound sentiment  \n",
       "0     {'neg': 0.088, 'neu': 0.669, 'pos': 0.243, 'co...    0.9454       pos  \n",
       "1     {'neg': 0.018, 'neu': 0.837, 'pos': 0.145, 'co...    0.8957       pos  \n",
       "2     {'neg': 0.04, 'neu': 0.692, 'pos': 0.268, 'com...    0.9858       pos  \n",
       "3     {'neg': 0.09, 'neu': 0.615, 'pos': 0.295, 'com...    0.9814       pos  \n",
       "4     {'neg': 0.0, 'neu': 0.746, 'pos': 0.254, 'comp...    0.9781       pos  \n",
       "...                                                 ...       ...       ...  \n",
       "9995  {'neg': 0.017, 'neu': 0.846, 'pos': 0.136, 'co...    0.9610       pos  \n",
       "9996  {'neg': 0.0, 'neu': 0.868, 'pos': 0.132, 'comp...    0.9544       pos  \n",
       "9997  {'neg': 0.084, 'neu': 0.754, 'pos': 0.162, 'co...    0.9102       pos  \n",
       "9998  {'neg': 0.091, 'neu': 0.909, 'pos': 0.0, 'comp...   -0.3595       neg  \n",
       "9999  {'neg': 0.028, 'neu': 0.811, 'pos': 0.161, 'co...    0.9107       pos  \n",
       "\n",
       "[10000 rows x 5 columns]"
      ]
     },
     "execution_count": 107,
     "metadata": {},
     "output_type": "execute_result"
    }
   ],
   "source": [
    "data['sentiment'] = data['compound'].apply(lambda c: 'pos' if c>= 0 else 'neg')\n",
    "data"
   ]
  },
  {
   "cell_type": "markdown",
   "id": "8a48b322",
   "metadata": {},
   "source": [
    "<h3>Retrieving review and sentiment</h3>"
   ]
  },
  {
   "cell_type": "code",
   "execution_count": 105,
   "id": "502b0008",
   "metadata": {},
   "outputs": [
    {
     "data": {
      "text/html": [
       "<div>\n",
       "<style scoped>\n",
       "    .dataframe tbody tr th:only-of-type {\n",
       "        vertical-align: middle;\n",
       "    }\n",
       "\n",
       "    .dataframe tbody tr th {\n",
       "        vertical-align: top;\n",
       "    }\n",
       "\n",
       "    .dataframe thead th {\n",
       "        text-align: right;\n",
       "    }\n",
       "</style>\n",
       "<table border=\"1\" class=\"dataframe\">\n",
       "  <thead>\n",
       "    <tr style=\"text-align: right;\">\n",
       "      <th></th>\n",
       "      <th>review</th>\n",
       "      <th>sentiment</th>\n",
       "    </tr>\n",
       "  </thead>\n",
       "  <tbody>\n",
       "    <tr>\n",
       "      <th>0</th>\n",
       "      <td>Stuning even for the non-gamer: This sound tra...</td>\n",
       "      <td>pos</td>\n",
       "    </tr>\n",
       "    <tr>\n",
       "      <th>1</th>\n",
       "      <td>The best soundtrack ever to anything.: I'm rea...</td>\n",
       "      <td>pos</td>\n",
       "    </tr>\n",
       "    <tr>\n",
       "      <th>2</th>\n",
       "      <td>Amazing!: This soundtrack is my favorite music...</td>\n",
       "      <td>pos</td>\n",
       "    </tr>\n",
       "    <tr>\n",
       "      <th>3</th>\n",
       "      <td>Excellent Soundtrack: I truly like this soundt...</td>\n",
       "      <td>pos</td>\n",
       "    </tr>\n",
       "    <tr>\n",
       "      <th>4</th>\n",
       "      <td>Remember, Pull Your Jaw Off The Floor After He...</td>\n",
       "      <td>pos</td>\n",
       "    </tr>\n",
       "    <tr>\n",
       "      <th>...</th>\n",
       "      <td>...</td>\n",
       "      <td>...</td>\n",
       "    </tr>\n",
       "    <tr>\n",
       "      <th>9995</th>\n",
       "      <td>A revelation of life in small town America in ...</td>\n",
       "      <td>pos</td>\n",
       "    </tr>\n",
       "    <tr>\n",
       "      <th>9996</th>\n",
       "      <td>Great biography of a very interesting journali...</td>\n",
       "      <td>pos</td>\n",
       "    </tr>\n",
       "    <tr>\n",
       "      <th>9997</th>\n",
       "      <td>Interesting Subject; Poor Presentation: You'd ...</td>\n",
       "      <td>pos</td>\n",
       "    </tr>\n",
       "    <tr>\n",
       "      <th>9998</th>\n",
       "      <td>Don't buy: The box looked used and it is obvio...</td>\n",
       "      <td>neg</td>\n",
       "    </tr>\n",
       "    <tr>\n",
       "      <th>9999</th>\n",
       "      <td>Beautiful Pen and Fast Delivery.: The pen was ...</td>\n",
       "      <td>pos</td>\n",
       "    </tr>\n",
       "  </tbody>\n",
       "</table>\n",
       "<p>10000 rows × 2 columns</p>\n",
       "</div>"
      ],
      "text/plain": [
       "                                                 review sentiment\n",
       "0     Stuning even for the non-gamer: This sound tra...       pos\n",
       "1     The best soundtrack ever to anything.: I'm rea...       pos\n",
       "2     Amazing!: This soundtrack is my favorite music...       pos\n",
       "3     Excellent Soundtrack: I truly like this soundt...       pos\n",
       "4     Remember, Pull Your Jaw Off The Floor After He...       pos\n",
       "...                                                 ...       ...\n",
       "9995  A revelation of life in small town America in ...       pos\n",
       "9996  Great biography of a very interesting journali...       pos\n",
       "9997  Interesting Subject; Poor Presentation: You'd ...       pos\n",
       "9998  Don't buy: The box looked used and it is obvio...       neg\n",
       "9999  Beautiful Pen and Fast Delivery.: The pen was ...       pos\n",
       "\n",
       "[10000 rows x 2 columns]"
      ]
     },
     "execution_count": 105,
     "metadata": {},
     "output_type": "execute_result"
    }
   ],
   "source": [
    "data[['review','sentiment']]"
   ]
  },
  {
   "cell_type": "markdown",
   "id": "308e0453",
   "metadata": {},
   "source": [
    "Compound score <b>closer to 1 is positive, negatives are negatives obviously</b>"
   ]
  },
  {
   "cell_type": "markdown",
   "id": "dc60100d",
   "metadata": {},
   "source": [
    "<h3>Comparing label with sentiment</h3>"
   ]
  },
  {
   "cell_type": "code",
   "execution_count": 108,
   "id": "67246025",
   "metadata": {},
   "outputs": [
    {
     "data": {
      "text/html": [
       "<div>\n",
       "<style scoped>\n",
       "    .dataframe tbody tr th:only-of-type {\n",
       "        vertical-align: middle;\n",
       "    }\n",
       "\n",
       "    .dataframe tbody tr th {\n",
       "        vertical-align: top;\n",
       "    }\n",
       "\n",
       "    .dataframe thead th {\n",
       "        text-align: right;\n",
       "    }\n",
       "</style>\n",
       "<table border=\"1\" class=\"dataframe\">\n",
       "  <thead>\n",
       "    <tr style=\"text-align: right;\">\n",
       "      <th></th>\n",
       "      <th>label</th>\n",
       "      <th>sentiment</th>\n",
       "    </tr>\n",
       "  </thead>\n",
       "  <tbody>\n",
       "    <tr>\n",
       "      <th>0</th>\n",
       "      <td>pos</td>\n",
       "      <td>pos</td>\n",
       "    </tr>\n",
       "    <tr>\n",
       "      <th>1</th>\n",
       "      <td>pos</td>\n",
       "      <td>pos</td>\n",
       "    </tr>\n",
       "    <tr>\n",
       "      <th>2</th>\n",
       "      <td>pos</td>\n",
       "      <td>pos</td>\n",
       "    </tr>\n",
       "    <tr>\n",
       "      <th>3</th>\n",
       "      <td>pos</td>\n",
       "      <td>pos</td>\n",
       "    </tr>\n",
       "    <tr>\n",
       "      <th>4</th>\n",
       "      <td>pos</td>\n",
       "      <td>pos</td>\n",
       "    </tr>\n",
       "    <tr>\n",
       "      <th>5</th>\n",
       "      <td>pos</td>\n",
       "      <td>pos</td>\n",
       "    </tr>\n",
       "    <tr>\n",
       "      <th>6</th>\n",
       "      <td>neg</td>\n",
       "      <td>neg</td>\n",
       "    </tr>\n",
       "    <tr>\n",
       "      <th>7</th>\n",
       "      <td>pos</td>\n",
       "      <td>pos</td>\n",
       "    </tr>\n",
       "    <tr>\n",
       "      <th>8</th>\n",
       "      <td>pos</td>\n",
       "      <td>pos</td>\n",
       "    </tr>\n",
       "    <tr>\n",
       "      <th>9</th>\n",
       "      <td>pos</td>\n",
       "      <td>pos</td>\n",
       "    </tr>\n",
       "  </tbody>\n",
       "</table>\n",
       "</div>"
      ],
      "text/plain": [
       "  label sentiment\n",
       "0   pos       pos\n",
       "1   pos       pos\n",
       "2   pos       pos\n",
       "3   pos       pos\n",
       "4   pos       pos\n",
       "5   pos       pos\n",
       "6   neg       neg\n",
       "7   pos       pos\n",
       "8   pos       pos\n",
       "9   pos       pos"
      ]
     },
     "execution_count": 108,
     "metadata": {},
     "output_type": "execute_result"
    }
   ],
   "source": [
    "data[['label','sentiment']].head(10)"
   ]
  },
  {
   "cell_type": "code",
   "execution_count": 109,
   "id": "84e1bf12",
   "metadata": {},
   "outputs": [
    {
     "data": {
      "text/plain": [
       "pos    6936\n",
       "neg    3064\n",
       "Name: sentiment, dtype: int64"
      ]
     },
     "execution_count": 109,
     "metadata": {},
     "output_type": "execute_result"
    }
   ],
   "source": [
    "data['sentiment'].value_counts()"
   ]
  },
  {
   "cell_type": "markdown",
   "id": "f4e6a889",
   "metadata": {},
   "source": [
    "<h2><center>Before VADER, we had</center></h2>\n",
    "\n",
    "<b><center>5097 negative reviews</b><br>\n",
    "<b><center>4903 positive reviews</b><br>\n",
    "\n",
    "<h2><center>After VADER, now we have</center></h2>\n",
    "<b><center>3064 negative reviews</center></b><br>\n",
    "    <b><center>6939 positive reviews</center></b>\n",
    "    \n",
    "    \n",
    "---\n",
    "---"
   ]
  },
  {
   "cell_type": "markdown",
   "id": "7f65cd42",
   "metadata": {},
   "source": [
    "<h4>Video timestamps</h4>\n",
    "\n",
    "Tokenization --- Stemming : sentiment_analysis1<br><br>\n",
    "Lemmatization --- TextBlob : sentiment_analysis2<br><br>\n",
    "VADER part1 : sentiment_analsysis3<br><br>\n",
    "Applying VADER --- lambda data compound : sentiment_analysis4<br><br>\n",
    "Filtering between positive & negative reviews : sentiment_analysis5\n",
    "\n",
    "<b><center>This notebook is using Python 3.8</center></b>"
   ]
  }
 ],
 "metadata": {
  "kernelspec": {
   "display_name": "myenv",
   "language": "python",
   "name": "myenv"
  },
  "language_info": {
   "codemirror_mode": {
    "name": "ipython",
    "version": 3
   },
   "file_extension": ".py",
   "mimetype": "text/x-python",
   "name": "python",
   "nbconvert_exporter": "python",
   "pygments_lexer": "ipython3",
   "version": "3.7.11"
  }
 },
 "nbformat": 4,
 "nbformat_minor": 5
}
