{
 "cells": [
  {
   "cell_type": "code",
   "execution_count": 1,
   "id": "af8af4d9",
   "metadata": {},
   "outputs": [],
   "source": [
    "import requests\n",
    "from bs4 import BeautifulSoup\n",
    "from datetime import datetime\n",
    "import pandas as pd\n",
    "\n",
    "#Generating a url for job position and job location\n",
    "\n",
    "def get_url(position,location):\n",
    "    position = position.replace(' ','-')\n",
    "    location = location.replace(' ','-') #Replacing white spaces with -, to generate proper url\n",
    "    template = 'https://www.jobstreet.com.my/en/job-search/{}-jobs-in-{}/'\n",
    "    #Applying string formatting\n",
    "    url = template.format(position,location)#First {} is position, 2nd {} is location\n",
    "    return url\n",
    "\n",
    "#Getting job info from the card\n",
    "\n",
    "def get_jobs(card):\n",
    "    job_name = card.find('div','sx2jih0 _2j8fZ_0 sIMFL_0 _1JtWu_0').text\n",
    "    anchor_tag = card.a\n",
    "    job_url = 'https://www.jobstreet.com.my'+anchor_tag['href']\n",
    "    company_name = card.find('span','sx2jih0 zcydq82q _18qlyvc0 _18qlyvcv _18qlyvc1 _18qlyvc8').text\n",
    "    job_location = card.find('span','sx2jih0 zcydq82q zcydq810 iwjz4h0').text\n",
    "    # Fetching job summary\n",
    "    try:\n",
    "        summary = ''\n",
    "        tag_text = ''\n",
    "        job_summary = card.find('ul','sx2jih0 sx2jih3 h6p8rp0 h6p8rp5')\n",
    "        for eachLI in job_summary('li'):\n",
    "            tag_text = eachLI.text\n",
    "            summary = summary + tag_text + ','\n",
    "        if ',' in summary:\n",
    "            summary = summary.rstrip(',')\n",
    "        else:\n",
    "            summary = 'Not Available'\n",
    "    except AttributeError:\n",
    "        summary = 'Not Available'\n",
    "    #Fetching job salary\n",
    "    job_salary = card.find_all('span','sx2jih0 zcydq82q _18qlyvc0 _18qlyvcv _18qlyvc3 _18qlyvc6')\n",
    "    try:\n",
    "        if len(job_salary)>=2:\n",
    "            job_salary = job_salary[1]\n",
    "            salary = job_salary.text\n",
    "        else:\n",
    "            salary = 'Not Available'\n",
    "    except IndexError:\n",
    "        salary = 'Not Available'\n",
    "    #Fetching job post date\n",
    "    time_tag = card.time\n",
    "    post_date = time_tag.get('datetime')\n",
    "    post_date = post_date.split('T')\n",
    "    post_date = post_date[0] #This to remove timezone\n",
    "    today = datetime.today().strftime('%Y-%m-%d')\n",
    "    \n",
    "    \n",
    "    job_info = (job_name,job_url,company_name,job_location,summary,\n",
    "               salary,post_date,today)\n",
    "    \n",
    "    return job_info\n",
    "\n",
    "# Creating a main function\n",
    "\n",
    "def main(position,location):\n",
    "    records = []\n",
    "    url = get_url(position,location)\n",
    "    \n",
    "    response = requests.get(url)\n",
    "    \n",
    "    #Creating BeautifulSoup object\n",
    "    soup = BeautifulSoup(response.text,'html.parser')\n",
    "    \n",
    "    cards = soup.find_all('div','sx2jih0 zcydq852 zcydq842 zcydq872 zcydq862 zcydq82a zcydq832 zcydq8d2 zcydq8cq')\n",
    "    \n",
    "    for everyCard in cards:\n",
    "        jobDetails = get_jobs(everyCard)\n",
    "        records.append(jobDetails)\n",
    "        \n",
    "    #Using pandas dataframe to save all job info in csv\n",
    "    \n",
    "    col = ['Job_Name','Job_URL','Company_Name','Job_Location',\n",
    "          'Job_Summary','Job_Salary','Post_Date','Today_Date']\n",
    "    \n",
    "    job_street_data = pd.DataFrame(records,columns=col)\n",
    "    \n",
    "    job_street_data.to_csv('C:\\\\Users\\\\user\\\\Desktop\\\\web scraping task\\\\JobStreetData5.csv')\n",
    "    "
   ]
  },
  {
   "cell_type": "code",
   "execution_count": 5,
   "id": "94da21cc",
   "metadata": {},
   "outputs": [
    {
     "ename": "AttributeError",
     "evalue": "'NoneType' object has no attribute 'text'",
     "output_type": "error",
     "traceback": [
      "\u001b[1;31m---------------------------------------------------------------------------\u001b[0m",
      "\u001b[1;31mAttributeError\u001b[0m                            Traceback (most recent call last)",
      "\u001b[1;32m<ipython-input-5-60ccd4cf538c>\u001b[0m in \u001b[0;36m<module>\u001b[1;34m\u001b[0m\n\u001b[1;32m----> 1\u001b[1;33m \u001b[0mmain\u001b[0m\u001b[1;33m(\u001b[0m\u001b[1;34m'civil'\u001b[0m\u001b[1;33m,\u001b[0m\u001b[1;34m'selangor'\u001b[0m\u001b[1;33m)\u001b[0m\u001b[1;33m\u001b[0m\u001b[1;33m\u001b[0m\u001b[0m\n\u001b[0m",
      "\u001b[1;32m<ipython-input-1-a04de586b28f>\u001b[0m in \u001b[0;36mmain\u001b[1;34m(position, location)\u001b[0m\n\u001b[0;32m     73\u001b[0m \u001b[1;33m\u001b[0m\u001b[0m\n\u001b[0;32m     74\u001b[0m     \u001b[1;32mfor\u001b[0m \u001b[0meveryCard\u001b[0m \u001b[1;32min\u001b[0m \u001b[0mcards\u001b[0m\u001b[1;33m:\u001b[0m\u001b[1;33m\u001b[0m\u001b[1;33m\u001b[0m\u001b[0m\n\u001b[1;32m---> 75\u001b[1;33m         \u001b[0mjobDetails\u001b[0m \u001b[1;33m=\u001b[0m \u001b[0mget_jobs\u001b[0m\u001b[1;33m(\u001b[0m\u001b[0meveryCard\u001b[0m\u001b[1;33m)\u001b[0m\u001b[1;33m\u001b[0m\u001b[1;33m\u001b[0m\u001b[0m\n\u001b[0m\u001b[0;32m     76\u001b[0m         \u001b[0mrecords\u001b[0m\u001b[1;33m.\u001b[0m\u001b[0mappend\u001b[0m\u001b[1;33m(\u001b[0m\u001b[0mjobDetails\u001b[0m\u001b[1;33m)\u001b[0m\u001b[1;33m\u001b[0m\u001b[1;33m\u001b[0m\u001b[0m\n\u001b[0;32m     77\u001b[0m \u001b[1;33m\u001b[0m\u001b[0m\n",
      "\u001b[1;32m<ipython-input-1-a04de586b28f>\u001b[0m in \u001b[0;36mget_jobs\u001b[1;34m(card)\u001b[0m\n\u001b[0;32m     20\u001b[0m     \u001b[0manchor_tag\u001b[0m \u001b[1;33m=\u001b[0m \u001b[0mcard\u001b[0m\u001b[1;33m.\u001b[0m\u001b[0ma\u001b[0m\u001b[1;33m\u001b[0m\u001b[1;33m\u001b[0m\u001b[0m\n\u001b[0;32m     21\u001b[0m     \u001b[0mjob_url\u001b[0m \u001b[1;33m=\u001b[0m \u001b[1;34m'https://www.jobstreet.com.my'\u001b[0m\u001b[1;33m+\u001b[0m\u001b[0manchor_tag\u001b[0m\u001b[1;33m[\u001b[0m\u001b[1;34m'href'\u001b[0m\u001b[1;33m]\u001b[0m\u001b[1;33m\u001b[0m\u001b[1;33m\u001b[0m\u001b[0m\n\u001b[1;32m---> 22\u001b[1;33m     \u001b[0mcompany_name\u001b[0m \u001b[1;33m=\u001b[0m \u001b[0mcard\u001b[0m\u001b[1;33m.\u001b[0m\u001b[0mfind\u001b[0m\u001b[1;33m(\u001b[0m\u001b[1;34m'span'\u001b[0m\u001b[1;33m,\u001b[0m\u001b[1;34m'sx2jih0 zcydq82q _18qlyvc0 _18qlyvcv _18qlyvc1 _18qlyvc8'\u001b[0m\u001b[1;33m)\u001b[0m\u001b[1;33m.\u001b[0m\u001b[0mtext\u001b[0m\u001b[1;33m\u001b[0m\u001b[1;33m\u001b[0m\u001b[0m\n\u001b[0m\u001b[0;32m     23\u001b[0m     \u001b[0mjob_location\u001b[0m \u001b[1;33m=\u001b[0m \u001b[0mcard\u001b[0m\u001b[1;33m.\u001b[0m\u001b[0mfind\u001b[0m\u001b[1;33m(\u001b[0m\u001b[1;34m'span'\u001b[0m\u001b[1;33m,\u001b[0m\u001b[1;34m'sx2jih0 zcydq82q zcydq810 iwjz4h0'\u001b[0m\u001b[1;33m)\u001b[0m\u001b[1;33m.\u001b[0m\u001b[0mtext\u001b[0m\u001b[1;33m\u001b[0m\u001b[1;33m\u001b[0m\u001b[0m\n\u001b[0;32m     24\u001b[0m     \u001b[1;31m# Fetching job summary\u001b[0m\u001b[1;33m\u001b[0m\u001b[1;33m\u001b[0m\u001b[1;33m\u001b[0m\u001b[0m\n",
      "\u001b[1;31mAttributeError\u001b[0m: 'NoneType' object has no attribute 'text'"
     ]
    }
   ],
   "source": [
    "main('civil','selangor')"
   ]
  },
  {
   "cell_type": "code",
   "execution_count": 7,
   "id": "6117ae68",
   "metadata": {},
   "outputs": [
    {
     "name": "stdout",
     "output_type": "stream",
     "text": [
      "https://www.jobstreet.com.my/en/job-search/civil-jobs-in-selangor/\n"
     ]
    }
   ],
   "source": [
    "print(get_url('civil','selangor'))"
   ]
  }
 ],
 "metadata": {
  "kernelspec": {
   "display_name": "Python 3",
   "language": "python",
   "name": "python3"
  },
  "language_info": {
   "codemirror_mode": {
    "name": "ipython",
    "version": 3
   },
   "file_extension": ".py",
   "mimetype": "text/x-python",
   "name": "python",
   "nbconvert_exporter": "python",
   "pygments_lexer": "ipython3",
   "version": "3.8.8"
  }
 },
 "nbformat": 4,
 "nbformat_minor": 5
}
