{
 "cells": [
  {
   "cell_type": "markdown",
   "id": "774da6dc",
   "metadata": {},
   "source": [
    "<h2><center>Web Scraping for Shopee with Selenium</center></h2>"
   ]
  },
  {
   "cell_type": "code",
   "execution_count": 1,
   "id": "71f2a8c2",
   "metadata": {},
   "outputs": [],
   "source": [
    "#!pip install selenium\n",
    "#-----------------------ONLY RUN THIS ONCE! IF YOU HAVE IT INSTALLED THEN NO NEED TO RUN IT AGAIN-----------------"
   ]
  },
  {
   "cell_type": "markdown",
   "id": "c5ddc015",
   "metadata": {},
   "source": [
    "<h3>Importing modules</h3>"
   ]
  },
  {
   "cell_type": "code",
   "execution_count": 2,
   "id": "0a2c3a3f",
   "metadata": {},
   "outputs": [],
   "source": [
    "import pandas as pd\n",
    "import requests\n",
    "from bs4 import BeautifulSoup\n",
    "import selenium\n",
    "from selenium import webdriver\n",
    "from selenium.webdriver.common.by import By\n",
    "import time #Helps to pause Python Program Execution forawhile"
   ]
  },
  {
   "cell_type": "markdown",
   "id": "67ac5444",
   "metadata": {},
   "source": [
    "<h3>Selenium in action</h3>\n",
    "\n",
    "Some commands/method similar to <code>find_element_by_xpath</code>,\n",
    "\n",
    "[Read them here!](https://selenium-python.readthedocs.io/locating-elements.html \"This is really useful btw\")\n",
    "\n",
    "Body of code explained:\n",
    "\n",
    "Since Selenium opens a new browser for us in <code>driver.get</code>, We want it to select a language <b>English</b>.<br>\n",
    "\n",
    "Therefore we specify the <code>XPATH</code> of the English tab using <code>inspect</code>\n",
    "\n",
    "<code>inspect</code>, then identify the tab, then copy the attribute as <code>Copy as XPATH</code>"
   ]
  },
  {
   "cell_type": "code",
   "execution_count": 3,
   "id": "b4f25162",
   "metadata": {},
   "outputs": [
    {
     "name": "stderr",
     "output_type": "stream",
     "text": [
      "<ipython-input-3-942460d10071>:1: DeprecationWarning: executable_path has been deprecated, please pass in a Service object\n",
      "  driver = webdriver.Chrome(executable_path='chromedriver.exe')\n"
     ]
    }
   ],
   "source": [
    "driver = webdriver.Chrome(executable_path='chromedriver.exe')\n",
    "driver.get('https://shopee.com.my/search?keyword=jeans')\n",
    "#This will open a new Chrome window and open the link, wait for a few secs\n",
    "time.sleep(5)\n",
    "\n",
    "#                          ---This orders Selenium to select a language,English---\n",
    "btn = driver.find_element(By.XPATH, '//*[@id=\"modal\"]/div[1]/div[1]/div/div[3]/div[1]/button')\n",
    "btn.click()\n",
    "driver.maximize_window()"
   ]
  },
  {
   "cell_type": "markdown",
   "id": "ff1bd088",
   "metadata": {},
   "source": [
    "<h3>Let's scrap some data!</h3>\n",
    "\n",
    "We are going to scrap:\n",
    "<ol>\n",
    "    <li>Product Name</li>\n",
    "    <li>Product Image</li>\n",
    "    <li>Product Price</li>\n",
    "    <li>Product link</li>\n",
    "</ol>\n",
    "\n",
    "---\n",
    "\n",
    "<h3>Using Selenium to scrap Product Info</h3>\n",
    "\n",
    "[Read more about Selenium functions](https://selenium-python.readthedocs.io/locating-elements.html \"Some useful functions I guess\")\n",
    "\n",
    "---\n",
    "\n",
    "How many cards do we have in 1 page?\n"
   ]
  },
  {
   "cell_type": "code",
   "execution_count": 4,
   "id": "419a5e3c",
   "metadata": {},
   "outputs": [
    {
     "name": "stdout",
     "output_type": "stream",
     "text": [
      "60\n"
     ]
    }
   ],
   "source": [
    "product_cards = driver.find_elements(By.CLASS_NAME, 'col-xs-2-4')\n",
    "time.sleep(5)\n",
    "print(len(product_cards))"
   ]
  },
  {
   "cell_type": "code",
   "execution_count": 5,
   "id": "ae47e468",
   "metadata": {},
   "outputs": [
    {
     "name": "stdout",
     "output_type": "stream",
     "text": [
      "60\n"
     ]
    }
   ],
   "source": [
    "card_test = driver.find_elements(By.CLASS_NAME, 'shopee-search-item-result__item')\n",
    "time.sleep(5)\n",
    "print(len(card_test))"
   ]
  },
  {
   "cell_type": "markdown",
   "id": "abdb4c22",
   "metadata": {},
   "source": [
    "<h3>Scraping a single card</h3>\n",
    "\n",
    "Use the same process, try to find out the information(tags/class) such as images,name etc"
   ]
  },
  {
   "cell_type": "code",
   "execution_count": 6,
   "id": "aa4e65d5",
   "metadata": {},
   "outputs": [],
   "source": [
    "single_card = product_cards[0]"
   ]
  },
  {
   "cell_type": "code",
   "execution_count": 7,
   "id": "8830679a",
   "metadata": {},
   "outputs": [
    {
     "name": "stdout",
     "output_type": "stream",
     "text": [
      "https://cf.shopee.com.my/file/52cd7257c24abe8609d17fcc838f37bf_tn\n"
     ]
    }
   ],
   "source": [
    "#Extracting image\n",
    "product_image = single_card.find_element(By.TAG_NAME, 'img')\n",
    "productImg = product_image.get_attribute('src')\n",
    "print(productImg)"
   ]
  },
  {
   "cell_type": "markdown",
   "id": "801a04c3",
   "metadata": {},
   "source": [
    "<h3>Getting product info using BeautifulSoup</h3>\n",
    "\n",
    "Basically, after creating <code>soup</code> object, still the same methods with previous projects (JobStreet/Indeed)\n",
    "\n",
    "<h4>Scraping Product Image</h4>"
   ]
  },
  {
   "cell_type": "code",
   "execution_count": 8,
   "id": "e3f488e1",
   "metadata": {},
   "outputs": [],
   "source": [
    "#Creating a BeautifulSoup object\n",
    "\n",
    "soup = BeautifulSoup(driver.page_source, 'html.parser')"
   ]
  },
  {
   "cell_type": "code",
   "execution_count": 9,
   "id": "9477e117",
   "metadata": {},
   "outputs": [
    {
     "name": "stdout",
     "output_type": "stream",
     "text": [
      "60\n"
     ]
    }
   ],
   "source": [
    "product_cards = soup.find_all('div','col-xs-2-4')\n",
    "print(len(product_cards))"
   ]
  },
  {
   "cell_type": "code",
   "execution_count": 10,
   "id": "636f736e",
   "metadata": {},
   "outputs": [
    {
     "name": "stdout",
     "output_type": "stream",
     "text": [
      "https://cf.shopee.com.my/file/52cd7257c24abe8609d17fcc838f37bf_tn\n"
     ]
    }
   ],
   "source": [
    "card = product_cards[0]\n",
    "\n",
    "# ---Task Alert--- Fetch product image info --- \n",
    "\n",
    "pImg = card.find('img','_3-N5L6 _2GchKS')\n",
    "product_image = pImg['src']\n",
    "print(product_image)\n"
   ]
  },
  {
   "cell_type": "markdown",
   "id": "c5da8d6c",
   "metadata": {},
   "source": [
    "<h4>Scraping Product Name</h4>\n",
    "\n",
    "<code>.strip()</code> will remove unnecessary spaces"
   ]
  },
  {
   "cell_type": "code",
   "execution_count": 11,
   "id": "c808f852",
   "metadata": {},
   "outputs": [
    {
     "name": "stdout",
     "output_type": "stream",
     "text": [
      "Summer Retro Loose Wide Leg Pants Women's Korean Fashion Casual High Waist Jeans Plus Size\n"
     ]
    }
   ],
   "source": [
    "product_name = card.find('div','_10Wbs- _2STCsK _3IqNCf').text.strip()\n",
    "print(product_name)"
   ]
  },
  {
   "cell_type": "markdown",
   "id": "e147d53c",
   "metadata": {},
   "source": [
    "<h4>Scraping Product Price</h4>\n",
    "\n",
    "Upon <code>inspect</code>, we found out that <code>span</code> contain 2 values, so it's better to use the <code>div</code> tag to prevent confusion"
   ]
  },
  {
   "cell_type": "code",
   "execution_count": 12,
   "id": "1b1ecd01",
   "metadata": {},
   "outputs": [
    {
     "name": "stdout",
     "output_type": "stream",
     "text": [
      "RM23.80\n"
     ]
    }
   ],
   "source": [
    "product_price = card.find('div','zp9xm9 kNGSLn l-u0xK').text.strip()\n",
    "print(product_price)"
   ]
  },
  {
   "cell_type": "markdown",
   "id": "af28de8e",
   "metadata": {},
   "source": [
    "<h4>Scraping Product Buy Link</h4>\n",
    "\n",
    "In the <code>div</code> class, there is an <code>anchor tag</code> that holds the link.\n",
    "\n",
    "We need to scrap it first through <code>anchor_tag</code>\n",
    "\n",
    "But, it's not a proper link. We still need to do some <b>string concatenation</b>\n",
    "\n",
    "We are concatenating <code>anchor_tag</code> with the link <code>'https://shopee.com.my'</code> so we get a proper link!"
   ]
  },
  {
   "cell_type": "code",
   "execution_count": 13,
   "id": "fe5c0d96",
   "metadata": {},
   "outputs": [
    {
     "name": "stdout",
     "output_type": "stream",
     "text": [
      "https://shopee.com.my/Summer-Retro-Loose-Wide-Leg-Pants-Women's-Korean-Fashion-Casual-High-Waist-Jeans-Plus-Size-i.313811878.8277143219?sp_atk=5792ed10-bd86-44d6-8d22-22b86dc1e419\n"
     ]
    }
   ],
   "source": [
    "anchor_tag = card.a.get('href')\n",
    "product_buy_link = 'https://shopee.com.my' + anchor_tag\n",
    "print(product_buy_link)"
   ]
  }
 ],
 "metadata": {
  "kernelspec": {
   "display_name": "Python 3",
   "language": "python",
   "name": "python3"
  },
  "language_info": {
   "codemirror_mode": {
    "name": "ipython",
    "version": 3
   },
   "file_extension": ".py",
   "mimetype": "text/x-python",
   "name": "python",
   "nbconvert_exporter": "python",
   "pygments_lexer": "ipython3",
   "version": "3.8.8"
  }
 },
 "nbformat": 4,
 "nbformat_minor": 5
}
