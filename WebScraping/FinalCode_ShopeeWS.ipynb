{
 "cells": [
  {
   "cell_type": "code",
   "execution_count": 1,
   "id": "7a9f4f47",
   "metadata": {},
   "outputs": [],
   "source": [
    "import pandas as pd\n",
    "import requests\n",
    "from bs4 import BeautifulSoup\n",
    "import selenium\n",
    "from selenium import webdriver\n",
    "from selenium.webdriver.common.by import By\n",
    "import time\n",
    "\n",
    "# ---------------Generating URL for product--------------\n",
    "\n",
    "def get_url(product):\n",
    "    product = product.replace(' ','%20')\n",
    "    template = 'https://shopee.com.my/search?keyword={}'\n",
    "    url = template.format(product)\n",
    "    return url\n",
    "\n",
    "# ---------------Generating Info for product--------------\n",
    "\n",
    "def get_all_products(card):\n",
    "    pImg = card.find('img')\n",
    "    product_image = pImg['src']\n",
    "    product_name = card.find('div','_10Wbs- _2STCsK _3IqNCf').text.strip()\n",
    "    #This to ignore special characters/emoji --> change into bytecode\n",
    "    product_name = product_name.encode('ascii','ignore')\n",
    "    #This to remove bytecode(B) in product_name\n",
    "    product_name = str(product_name,'utf-8')\n",
    "    product_price = card.find('div','zp9xm9 kNGSLn l-u0xK').text.strip()\n",
    "    anchor_tag = card.a.get('href')\n",
    "    product_buy_link = 'https://shopee.com.my' + anchor_tag\n",
    "    \n",
    "    product_info = (product_image,product_name,product_price,product_buy_link)\n",
    "    \n",
    "    return product_info\n",
    "\n",
    "#---------------Main Function--------------\n",
    "\n",
    "def main(product):\n",
    "    records = []\n",
    "    url = get_url(product)\n",
    "    \n",
    "    driver = webdriver.Chrome(executable_path='chromedriver.exe')\n",
    "    driver.get(url)\n",
    "    driver.maximize_window()\n",
    "    time.sleep(5)\n",
    "    btn = driver.find_element(By.XPATH, '//*[@id=\"modal\"]/div[1]/div[1]/div/div[3]/div[1]/button')\n",
    "    btn.click()\n",
    "    time.sleep(5)\n",
    "    #Define an initial value\n",
    "    temp_height=0\n",
    "    while True:\n",
    "        #Looping down the scroll bar\n",
    "        driver.execute_script(\"window.scrollBy(0,1000)\")\n",
    "        #sleep and let the scroll bar react\n",
    "        time.sleep(5)\n",
    "        #Get the distance of the current scroll bar from the top\n",
    "        check_height = driver.execute_script(\"return document.documentElement.scrollTop || window.pageYOffset || document.body.scrollTop;\")\n",
    "        #If the two are equal to the end\n",
    "        if check_height==temp_height:\n",
    "            break\n",
    "        temp_height=check_height\n",
    "    \n",
    "    time.sleep(10)\n",
    "    \n",
    "    #Creating a BSoup object\n",
    "    soup = BeautifulSoup(driver.page_source, 'html.parser')\n",
    "    product_cards = soup.find_all('div','col-xs-2-4')\n",
    "    \n",
    "    for everyCard in product_cards:\n",
    "        productDetails = get_all_products(everyCard)\n",
    "        records.append(productDetails)\n",
    "        \n",
    "    # -------Using Pandas to Save all info-------\n",
    "    \n",
    "    col = ['product_image','product_name','product_price','product_buy_link']\n",
    "    \n",
    "    shopee_data = pd.DataFrame(records,columns=col)\n",
    "    \n",
    "    shopee_data.to_csv('C:\\\\Users\\\\user\\\\Desktop\\\\web scraping task\\\\shopeeData1.csv',encoding='utf-8')\n",
    "    \n",
    "    #encoding = 'utf-8' to handle emojis in product_name\n",
    "    "
   ]
  },
  {
   "cell_type": "code",
   "execution_count": 2,
   "id": "2ff6ac1e",
   "metadata": {},
   "outputs": [
    {
     "name": "stdout",
     "output_type": "stream",
     "text": [
      "What do you want to buy? : jeans\n"
     ]
    },
    {
     "name": "stderr",
     "output_type": "stream",
     "text": [
      "<ipython-input-1-03855615bc5d>:41: DeprecationWarning: executable_path has been deprecated, please pass in a Service object\n",
      "  driver = webdriver.Chrome(executable_path='chromedriver.exe')\n"
     ]
    }
   ],
   "source": [
    "#----Receiving user input-----\n",
    "\n",
    "product = input('What do you want to buy? : ')\n",
    "main(product)"
   ]
  },
  {
   "cell_type": "code",
   "execution_count": null,
   "id": "a855ca03",
   "metadata": {},
   "outputs": [],
   "source": []
  }
 ],
 "metadata": {
  "kernelspec": {
   "display_name": "Python 3",
   "language": "python",
   "name": "python3"
  },
  "language_info": {
   "codemirror_mode": {
    "name": "ipython",
    "version": 3
   },
   "file_extension": ".py",
   "mimetype": "text/x-python",
   "name": "python",
   "nbconvert_exporter": "python",
   "pygments_lexer": "ipython3",
   "version": "3.8.8"
  }
 },
 "nbformat": 4,
 "nbformat_minor": 5
}
